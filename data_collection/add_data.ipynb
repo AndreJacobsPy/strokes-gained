{
 "cells": [
  {
   "cell_type": "code",
   "execution_count": 20,
   "metadata": {},
   "outputs": [
    {
     "data": {
      "text/plain": [
       "'Hawaii'"
      ]
     },
     "execution_count": 20,
     "metadata": {},
     "output_type": "execute_result"
    }
   ],
   "source": [
    "from bs4 import BeautifulSoup\n",
    "from requests import get\n",
    "\n",
    "\n",
    "html = get('https://www.pgatour.com/tournaments/schedule.history.2022.html').text\n",
    "soup = BeautifulSoup(html, 'html.parser')\n",
    "\n",
    "states = dict()\n",
    "\n",
    "for i in range(2, 52):\n",
    "    state = str(soup.find_all('tr')[i]).split('\\xa0')[2]\n",
    "    tournament = str(soup.find_all('tr')[i]).split('>')[12][:-3]\n",
    "\n",
    "    states[tournament] = state\n",
    "\n",
    "states['Sony Open in Hawaii']"
   ]
  },
  {
   "cell_type": "code",
   "execution_count": 20,
   "metadata": {},
   "outputs": [
    {
     "name": "stdout",
     "output_type": "stream",
     "text": [
      "2021_tour_event_values.csv\n",
      "[(169, 'Tour', 2021, 'Georgia')]\n",
      "2020_tour_event_values.csv\n",
      "[(170, 'Tour', 2020, 'Georgia')]\n",
      "2019_tour_event_values.csv\n",
      "[(171, 'Tour', 2019, 'Georgia')]\n",
      "2018_tour_event_values.csv\n",
      "[(172, 'Tour', 2018, 'Georgia')]\n",
      "2017_tour_event_values.csv\n",
      "[(173, 'Tour', 2017, 'Georgia')]\n"
     ]
    }
   ],
   "source": [
    "import pandas as pd\n",
    "import os\n",
    "\n",
    "files = os.listdir('/users/andrejacobs/downloads/data')\n",
    "tournaments = pd.read_csv('tournament_data.csv')\n",
    "tournament = 'Georgia'\n",
    "\n",
    "def fix_name(x: str):\n",
    "    x = x[:].split()\n",
    "    x = ' '.join(x[::-1])\n",
    "\n",
    "    return x[:-1]\n",
    "\n",
    "for file in sorted(files, reverse=True):\n",
    "    if file[-4:] == '.csv':\n",
    "        print(file)\n",
    "        file_path = file.split('_')\n",
    "        \n",
    "        new_row = [(\n",
    "            max(tournaments['tournament_id']) + 1, ' '.join(file_path[1:-2]).title(), \n",
    "            int(file_path[0]), tournament\n",
    "        )]\n",
    "        print(new_row)\n",
    "\n",
    "        tournaments = pd.DataFrame(new_row, columns=tournaments.columns)\n",
    "\n",
    "        df = pd.read_csv('/users/andrejacobs/downloads/data/' + file)\n",
    "        df = df.drop('r4_score', axis=1)\n",
    "        df['player_name'] = df['player_name'].apply(fix_name)\n",
    "        df['tournament_id'] = max(tournaments['tournament_id'])\n",
    "\n",
    "        df.to_csv('strokes_gained.csv', header=False, index=False, mode='a')\n",
    "        tournaments.to_csv('tournament_data.csv', header=False, index=False, mode='a')\n",
    "\n",
    "for f in os.listdir('/users/andrejacobs/downloads/data'):\n",
    "    os.remove(os.path.join('/users/andrejacobs/downloads/data', f))"
   ]
  },
  {
   "cell_type": "code",
   "execution_count": null,
   "metadata": {},
   "outputs": [],
   "source": []
  }
 ],
 "metadata": {
  "kernelspec": {
   "display_name": "ds",
   "language": "python",
   "name": "python3"
  },
  "language_info": {
   "codemirror_mode": {
    "name": "ipython",
    "version": 3
   },
   "file_extension": ".py",
   "mimetype": "text/x-python",
   "name": "python",
   "nbconvert_exporter": "python",
   "pygments_lexer": "ipython3",
   "version": "3.10.9"
  },
  "orig_nbformat": 4,
  "vscode": {
   "interpreter": {
    "hash": "0bed53bd8db8f6e1a1b9e112c135bc8111e6b581ca2aa80741f476355aa707b9"
   }
  }
 },
 "nbformat": 4,
 "nbformat_minor": 2
}
