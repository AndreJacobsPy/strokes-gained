{
 "cells": [
  {
   "cell_type": "markdown",
   "metadata": {},
   "source": [
    "# Building a Model to Predict Cut Made"
   ]
  },
  {
   "cell_type": "code",
   "execution_count": 67,
   "metadata": {
    "ExecuteTime": {
     "end_time": "2023-04-28T17:34:24.604624Z",
     "start_time": "2023-04-28T17:34:24.491033Z"
    },
    "tags": []
   },
   "outputs": [
    {
     "data": {
      "text/html": [
       "<div>\n",
       "<style scoped>\n",
       "    .dataframe tbody tr th:only-of-type {\n",
       "        vertical-align: middle;\n",
       "    }\n",
       "\n",
       "    .dataframe tbody tr th {\n",
       "        vertical-align: top;\n",
       "    }\n",
       "\n",
       "    .dataframe thead th {\n",
       "        text-align: right;\n",
       "    }\n",
       "</style>\n",
       "<table border=\"1\" class=\"dataframe\">\n",
       "  <thead>\n",
       "    <tr style=\"text-align: right;\">\n",
       "      <th></th>\n",
       "      <th>tournament_id</th>\n",
       "      <th>player_name</th>\n",
       "      <th>score</th>\n",
       "      <th>Alabama</th>\n",
       "      <th>Arizona</th>\n",
       "      <th>California</th>\n",
       "      <th>Canada</th>\n",
       "      <th>Connecticut</th>\n",
       "      <th>Delaware</th>\n",
       "      <th>Florida</th>\n",
       "      <th>...</th>\n",
       "      <th>app</th>\n",
       "      <th>ott</th>\n",
       "      <th>t2g</th>\n",
       "      <th>result</th>\n",
       "      <th>tournament_putt</th>\n",
       "      <th>tournament_arg</th>\n",
       "      <th>tournament_app</th>\n",
       "      <th>tournament_ott</th>\n",
       "      <th>tournament_t2g</th>\n",
       "      <th>tournament_cluster</th>\n",
       "    </tr>\n",
       "  </thead>\n",
       "  <tbody>\n",
       "    <tr>\n",
       "      <th>0</th>\n",
       "      <td>147</td>\n",
       "      <td>Grayson Murray</td>\n",
       "      <td>-21</td>\n",
       "      <td>1</td>\n",
       "      <td>0</td>\n",
       "      <td>0</td>\n",
       "      <td>0</td>\n",
       "      <td>0</td>\n",
       "      <td>0</td>\n",
       "      <td>0</td>\n",
       "      <td>...</td>\n",
       "      <td>1</td>\n",
       "      <td>3</td>\n",
       "      <td>3</td>\n",
       "      <td>1</td>\n",
       "      <td>-0.125295</td>\n",
       "      <td>-0.053159</td>\n",
       "      <td>-0.217258</td>\n",
       "      <td>-0.091008</td>\n",
       "      <td>-0.361742</td>\n",
       "      <td>3</td>\n",
       "    </tr>\n",
       "    <tr>\n",
       "      <th>1</th>\n",
       "      <td>147</td>\n",
       "      <td>Chad Collins</td>\n",
       "      <td>-20</td>\n",
       "      <td>1</td>\n",
       "      <td>0</td>\n",
       "      <td>0</td>\n",
       "      <td>0</td>\n",
       "      <td>0</td>\n",
       "      <td>0</td>\n",
       "      <td>0</td>\n",
       "      <td>...</td>\n",
       "      <td>1</td>\n",
       "      <td>3</td>\n",
       "      <td>3</td>\n",
       "      <td>1</td>\n",
       "      <td>-0.125295</td>\n",
       "      <td>-0.053159</td>\n",
       "      <td>-0.217258</td>\n",
       "      <td>-0.091008</td>\n",
       "      <td>-0.361742</td>\n",
       "      <td>3</td>\n",
       "    </tr>\n",
       "    <tr>\n",
       "      <th>2</th>\n",
       "      <td>147</td>\n",
       "      <td>Brian Gay</td>\n",
       "      <td>-19</td>\n",
       "      <td>1</td>\n",
       "      <td>0</td>\n",
       "      <td>0</td>\n",
       "      <td>0</td>\n",
       "      <td>0</td>\n",
       "      <td>0</td>\n",
       "      <td>0</td>\n",
       "      <td>...</td>\n",
       "      <td>0</td>\n",
       "      <td>0</td>\n",
       "      <td>2</td>\n",
       "      <td>1</td>\n",
       "      <td>-0.125295</td>\n",
       "      <td>-0.053159</td>\n",
       "      <td>-0.217258</td>\n",
       "      <td>-0.091008</td>\n",
       "      <td>-0.361742</td>\n",
       "      <td>3</td>\n",
       "    </tr>\n",
       "    <tr>\n",
       "      <th>3</th>\n",
       "      <td>147</td>\n",
       "      <td>Scott Stallings</td>\n",
       "      <td>-19</td>\n",
       "      <td>1</td>\n",
       "      <td>0</td>\n",
       "      <td>0</td>\n",
       "      <td>0</td>\n",
       "      <td>0</td>\n",
       "      <td>0</td>\n",
       "      <td>0</td>\n",
       "      <td>...</td>\n",
       "      <td>1</td>\n",
       "      <td>0</td>\n",
       "      <td>3</td>\n",
       "      <td>1</td>\n",
       "      <td>-0.125295</td>\n",
       "      <td>-0.053159</td>\n",
       "      <td>-0.217258</td>\n",
       "      <td>-0.091008</td>\n",
       "      <td>-0.361742</td>\n",
       "      <td>3</td>\n",
       "    </tr>\n",
       "    <tr>\n",
       "      <th>4</th>\n",
       "      <td>147</td>\n",
       "      <td>Tag Ridings</td>\n",
       "      <td>-19</td>\n",
       "      <td>1</td>\n",
       "      <td>0</td>\n",
       "      <td>0</td>\n",
       "      <td>0</td>\n",
       "      <td>0</td>\n",
       "      <td>0</td>\n",
       "      <td>0</td>\n",
       "      <td>...</td>\n",
       "      <td>1</td>\n",
       "      <td>3</td>\n",
       "      <td>3</td>\n",
       "      <td>1</td>\n",
       "      <td>-0.125295</td>\n",
       "      <td>-0.053159</td>\n",
       "      <td>-0.217258</td>\n",
       "      <td>-0.091008</td>\n",
       "      <td>-0.361742</td>\n",
       "      <td>3</td>\n",
       "    </tr>\n",
       "  </tbody>\n",
       "</table>\n",
       "<p>5 rows × 49 columns</p>\n",
       "</div>"
      ],
      "text/plain": [
       "   tournament_id      player_name  score  Alabama  Arizona  California  \\\n",
       "0            147   Grayson Murray    -21        1        0           0   \n",
       "1            147     Chad Collins    -20        1        0           0   \n",
       "2            147        Brian Gay    -19        1        0           0   \n",
       "3            147  Scott Stallings    -19        1        0           0   \n",
       "4            147      Tag Ridings    -19        1        0           0   \n",
       "\n",
       "   Canada  Connecticut  Delaware  Florida  ...  app  ott  t2g  result  \\\n",
       "0       0            0         0        0  ...    1    3    3       1   \n",
       "1       0            0         0        0  ...    1    3    3       1   \n",
       "2       0            0         0        0  ...    0    0    2       1   \n",
       "3       0            0         0        0  ...    1    0    3       1   \n",
       "4       0            0         0        0  ...    1    3    3       1   \n",
       "\n",
       "   tournament_putt  tournament_arg  tournament_app  tournament_ott  \\\n",
       "0        -0.125295       -0.053159       -0.217258       -0.091008   \n",
       "1        -0.125295       -0.053159       -0.217258       -0.091008   \n",
       "2        -0.125295       -0.053159       -0.217258       -0.091008   \n",
       "3        -0.125295       -0.053159       -0.217258       -0.091008   \n",
       "4        -0.125295       -0.053159       -0.217258       -0.091008   \n",
       "\n",
       "   tournament_t2g  tournament_cluster  \n",
       "0       -0.361742                   3  \n",
       "1       -0.361742                   3  \n",
       "2       -0.361742                   3  \n",
       "3       -0.361742                   3  \n",
       "4       -0.361742                   3  \n",
       "\n",
       "[5 rows x 49 columns]"
      ]
     },
     "metadata": {},
     "output_type": "display_data"
    },
    {
     "name": "stdout",
     "output_type": "stream",
     "text": [
      "(23703, 49) Index(['tournament_id', 'player_name', 'score', 'Alabama', 'Arizona',\n",
      "       'California', 'Canada', 'Connecticut', 'Delaware', 'Florida', 'Georgia',\n",
      "       'Hawaii', 'Illinois', 'Kentucky', 'Maryland', 'Massachusetts', 'Mexico',\n",
      "       'Michigan', 'Minnesota', 'Missouri', 'New Jersey', 'New York',\n",
      "       'North Carolina', 'Ohio', 'Oklahoma', 'Pennsylvania', 'Scotland',\n",
      "       'South Carolina', 'Tennessee', 'Texas', 'sg_putt', 'sg_arg', 'sg_app',\n",
      "       'sg_ott', 'sg_t2g', 'sg_total', 'pos', 'putting', 'arg', 'app', 'ott',\n",
      "       't2g', 'result', 'tournament_putt', 'tournament_arg', 'tournament_app',\n",
      "       'tournament_ott', 'tournament_t2g', 'tournament_cluster'],\n",
      "      dtype='object')\n"
     ]
    }
   ],
   "source": [
    "import pandas as pd\n",
    "from IPython.display import display\n",
    "\n",
    "# importing data\n",
    "data: pd.DataFrame = pd.read_pickle('training_data.pkl'); df = data.copy().dropna(axis=0)\n",
    "display(data.head())\n",
    "print(data.shape, data.columns)"
   ]
  },
  {
   "cell_type": "markdown",
   "metadata": {},
   "source": [
    "## Prep Data"
   ]
  },
  {
   "cell_type": "code",
   "execution_count": 68,
   "metadata": {
    "ExecuteTime": {
     "end_time": "2023-04-28T17:34:24.626333Z",
     "start_time": "2023-04-28T17:34:24.515758Z"
    },
    "tags": []
   },
   "outputs": [
    {
     "data": {
      "text/plain": [
       "1    12765\n",
       "0    10924\n",
       "Name: result, dtype: int64"
      ]
     },
     "execution_count": 68,
     "metadata": {},
     "output_type": "execute_result"
    }
   ],
   "source": [
    "# creating a binary outcome \n",
    "df['result'] = df.pos.apply(lambda x: 1 if x != 'CUT' else 0)\n",
    "df.result.value_counts()"
   ]
  },
  {
   "cell_type": "markdown",
   "metadata": {},
   "source": [
    "## Building First Model\n",
    "- This model is not bad and can predict with 85% accuracy\n",
    "- We can do better by feeding model with more information"
   ]
  },
  {
   "cell_type": "code",
   "execution_count": 69,
   "metadata": {
    "ExecuteTime": {
     "end_time": "2023-04-28T17:34:24.628997Z",
     "start_time": "2023-04-28T17:34:24.525412Z"
    }
   },
   "outputs": [
    {
     "data": {
      "text/html": [
       "<div>\n",
       "<style scoped>\n",
       "    .dataframe tbody tr th:only-of-type {\n",
       "        vertical-align: middle;\n",
       "    }\n",
       "\n",
       "    .dataframe tbody tr th {\n",
       "        vertical-align: top;\n",
       "    }\n",
       "\n",
       "    .dataframe thead th {\n",
       "        text-align: right;\n",
       "    }\n",
       "</style>\n",
       "<table border=\"1\" class=\"dataframe\">\n",
       "  <thead>\n",
       "    <tr style=\"text-align: right;\">\n",
       "      <th></th>\n",
       "      <th>sg_putt</th>\n",
       "      <th>sg_arg</th>\n",
       "      <th>sg_app</th>\n",
       "      <th>sg_ott</th>\n",
       "      <th>sg_t2g</th>\n",
       "      <th>sg_total</th>\n",
       "      <th>result</th>\n",
       "    </tr>\n",
       "  </thead>\n",
       "  <tbody>\n",
       "    <tr>\n",
       "      <th>0</th>\n",
       "      <td>0.387</td>\n",
       "      <td>0.064</td>\n",
       "      <td>1.417</td>\n",
       "      <td>1.518</td>\n",
       "      <td>3.000</td>\n",
       "      <td>3.387</td>\n",
       "      <td>1</td>\n",
       "    </tr>\n",
       "    <tr>\n",
       "      <th>1</th>\n",
       "      <td>1.429</td>\n",
       "      <td>0.107</td>\n",
       "      <td>1.668</td>\n",
       "      <td>-0.067</td>\n",
       "      <td>1.707</td>\n",
       "      <td>3.137</td>\n",
       "      <td>1</td>\n",
       "    </tr>\n",
       "    <tr>\n",
       "      <th>2</th>\n",
       "      <td>1.017</td>\n",
       "      <td>0.944</td>\n",
       "      <td>1.093</td>\n",
       "      <td>-0.167</td>\n",
       "      <td>1.870</td>\n",
       "      <td>2.887</td>\n",
       "      <td>1</td>\n",
       "    </tr>\n",
       "    <tr>\n",
       "      <th>3</th>\n",
       "      <td>-0.187</td>\n",
       "      <td>0.165</td>\n",
       "      <td>1.887</td>\n",
       "      <td>1.022</td>\n",
       "      <td>3.074</td>\n",
       "      <td>2.887</td>\n",
       "      <td>1</td>\n",
       "    </tr>\n",
       "    <tr>\n",
       "      <th>4</th>\n",
       "      <td>2.118</td>\n",
       "      <td>0.414</td>\n",
       "      <td>-0.212</td>\n",
       "      <td>0.566</td>\n",
       "      <td>0.768</td>\n",
       "      <td>2.886</td>\n",
       "      <td>1</td>\n",
       "    </tr>\n",
       "  </tbody>\n",
       "</table>\n",
       "</div>"
      ],
      "text/plain": [
       "   sg_putt  sg_arg  sg_app  sg_ott  sg_t2g  sg_total  result\n",
       "0    0.387   0.064   1.417   1.518   3.000     3.387       1\n",
       "1    1.429   0.107   1.668  -0.067   1.707     3.137       1\n",
       "2    1.017   0.944   1.093  -0.167   1.870     2.887       1\n",
       "3   -0.187   0.165   1.887   1.022   3.074     2.887       1\n",
       "4    2.118   0.414  -0.212   0.566   0.768     2.886       1"
      ]
     },
     "metadata": {},
     "output_type": "display_data"
    },
    {
     "name": "stdout",
     "output_type": "stream",
     "text": [
      "sg_putt     0\n",
      "sg_arg      0\n",
      "sg_app      0\n",
      "sg_ott      0\n",
      "sg_t2g      0\n",
      "sg_total    0\n",
      "result      0\n",
      "dtype: int64\n"
     ]
    }
   ],
   "source": [
    "# starting with just strokes gained data\n",
    "cols = ['sg_putt', 'sg_arg', 'sg_app', 'sg_ott', 'sg_t2g', 'sg_total', 'result']\n",
    "small_data = df[cols].copy()\n",
    "display(small_data.head())\n",
    "\n",
    "# ensuring the data has no missing values\n",
    "print(small_data.isna().sum())"
   ]
  },
  {
   "cell_type": "code",
   "execution_count": 70,
   "metadata": {
    "ExecuteTime": {
     "end_time": "2023-04-28T17:34:24.629179Z",
     "start_time": "2023-04-28T17:34:24.532669Z"
    }
   },
   "outputs": [
    {
     "name": "stdout",
     "output_type": "stream",
     "text": [
      "sg_putt     0\n",
      "sg_arg      0\n",
      "sg_app      0\n",
      "sg_ott      0\n",
      "sg_t2g      0\n",
      "sg_total    0\n",
      "result      0\n",
      "dtype: int64\n"
     ]
    }
   ],
   "source": [
    "# need to remove missing values will just drop rows since it is such\n",
    "# a small number of observations\n",
    "small_data = small_data.dropna(axis=0)\n",
    "print(small_data.isna().sum())"
   ]
  },
  {
   "cell_type": "code",
   "execution_count": 71,
   "metadata": {
    "ExecuteTime": {
     "end_time": "2023-04-28T17:34:26.640249Z",
     "start_time": "2023-04-28T17:34:24.537229Z"
    }
   },
   "outputs": [
    {
     "name": "stdout",
     "output_type": "stream",
     "text": [
      "overall accuracy: 0.8490662573548222\n",
      "[[3205  409]\n",
      " [ 771 3433]]\n"
     ]
    }
   ],
   "source": [
    "from sklearn.ensemble import RandomForestClassifier\n",
    "from sklearn.model_selection import train_test_split\n",
    "from sklearn.metrics import confusion_matrix\n",
    "\n",
    "# split data\n",
    "x = small_data.copy()\n",
    "y = x.pop('result')\n",
    "\n",
    "# create training and testing data\n",
    "xtr, xte, ytr, yte = train_test_split(x, y, test_size=0.33, random_state=42)\n",
    "\n",
    "# train model\n",
    "simple_model = RandomForestClassifier(random_state=42)\n",
    "simple_model.fit(xtr, ytr)\n",
    "print(f'overall accuracy: {simple_model.score(xte, yte)}')\n",
    "print(confusion_matrix(y_true=yte, y_pred=simple_model.predict(xte)))"
   ]
  },
  {
   "cell_type": "markdown",
   "metadata": {},
   "source": [
    "## A More Complex Approach\n",
    "- Lets see if a more complex model is useful\n",
    "- This model does perform slightly better so, it is worth trying when we add more data as well"
   ]
  },
  {
   "cell_type": "code",
   "execution_count": 72,
   "metadata": {
    "ExecuteTime": {
     "end_time": "2023-04-28T17:34:26.646725Z",
     "start_time": "2023-04-28T17:34:26.641883Z"
    }
   },
   "outputs": [
    {
     "data": {
      "text/plain": [
       "(tensor([[0.4061],\n",
       "         [0.4079],\n",
       "         [0.5037],\n",
       "         ...,\n",
       "         [0.4255],\n",
       "         [0.4343],\n",
       "         [0.5753]], grad_fn=<SigmoidBackward0>),\n",
       " tensor([[1.],\n",
       "         [1.],\n",
       "         [0.],\n",
       "         ...,\n",
       "         [0.],\n",
       "         [1.],\n",
       "         [1.]]))"
      ]
     },
     "execution_count": 72,
     "metadata": {},
     "output_type": "execute_result"
    }
   ],
   "source": [
    "import torch\n",
    "import torch.nn as nn\n",
    "from torch.nn.functional import sigmoid\n",
    "\n",
    "# convert training and testing data to tensors\n",
    "xtrT, ytrT, xteT, yteT = [torch.Tensor(data.values) for data in [xtr, ytr, xte, yte]]\n",
    "ytrT, yteT = ytrT.reshape(-1, 1), yteT.reshape(-1, 1)\n",
    "\n",
    "# craft model\n",
    "class FirstNN(nn.Module):\n",
    "    def __init__(self) -> None:\n",
    "        super(FirstNN, self).__init__()\n",
    "        \n",
    "        # actual model structure\n",
    "        self.arch = nn.Sequential(\n",
    "            nn.Linear(6, 32),\n",
    "            nn.ReLU(),\n",
    "            nn.Linear(32, 1)\n",
    "        )\n",
    "        \n",
    "    def forward(self, x) -> torch.Tensor:\n",
    "        x = self.arch(x)\n",
    "        return sigmoid(x)\n",
    "    \n",
    "model = FirstNN()\n",
    "model(xtrT), ytrT.reshape(-1, 1)"
   ]
  },
  {
   "cell_type": "code",
   "execution_count": 73,
   "metadata": {
    "ExecuteTime": {
     "end_time": "2023-04-28T17:34:26.650011Z",
     "start_time": "2023-04-28T17:34:26.648362Z"
    }
   },
   "outputs": [],
   "source": [
    "def train_loop(model, epochs, loss_fn, optimizer) -> dict:\n",
    "    \"\"\"\n",
    "    This is a function that is to be used with a PyTorch model and helps to train model.\n",
    "    \n",
    "    Arguments:\n",
    "        model: the model we are training (nn.Module object)\n",
    "        epochs: number of iterations (int)\n",
    "        loss_fn: the loss function to use for evaluation updated weights (function)\n",
    "        optimizer: how the Neural Network gets updated during each epoch\n",
    "        \n",
    "    Returns:\n",
    "        None\n",
    "    \"\"\"\n",
    "    data = dict()\n",
    "    data['loss'] = []\n",
    "    data['test_loss'] = []\n",
    "    \n",
    "    for epoch in range(epochs):\n",
    "        # forward pass\n",
    "        model.train()\n",
    "        preds = model(xtrT)\n",
    "        \n",
    "        # calculate loss\n",
    "        loss = loss_fn(preds, ytrT)\n",
    "        \n",
    "        # back propagation\n",
    "        optimizer.zero_grad()\n",
    "        loss.backward()\n",
    "        optimizer.step()\n",
    "        \n",
    "        # testing loop\n",
    "        model.eval()\n",
    "        with torch.inference_mode():\n",
    "            test_preds = model(xteT)\n",
    "            test_loss = loss_fn(test_preds, yteT)\n",
    "            \n",
    "        # creating training output to show how model is learning\n",
    "        if epoch % (epochs / 10) == 1:\n",
    "            print(f'epoch: {epoch} loss: {loss} test loss: {test_loss}')\n",
    "            \n",
    "        data['loss'].append(loss.item())\n",
    "        data['test_loss'].append(test_loss.item())\n",
    "        \n",
    "    return data"
   ]
  },
  {
   "cell_type": "code",
   "execution_count": 74,
   "metadata": {
    "ExecuteTime": {
     "end_time": "2023-04-28T17:34:27.725065Z",
     "start_time": "2023-04-28T17:34:26.650860Z"
    }
   },
   "outputs": [
    {
     "name": "stdout",
     "output_type": "stream",
     "text": [
      "epoch: 1 loss: 0.7594466805458069 test loss: 0.7178282737731934\n",
      "epoch: 56 loss: 0.35171228647232056 test loss: 0.35130542516708374\n",
      "epoch: 111 loss: 0.3226436674594879 test loss: 0.3292030394077301\n",
      "epoch: 166 loss: 0.31654831767082214 test loss: 0.32308730483055115\n",
      "epoch: 221 loss: 0.3138197362422943 test loss: 0.32023417949676514\n",
      "epoch: 276 loss: 0.31196799874305725 test loss: 0.31842297315597534\n",
      "epoch: 331 loss: 0.31092044711112976 test loss: 0.31770196557044983\n",
      "epoch: 386 loss: 0.3102021813392639 test loss: 0.317501038312912\n",
      "epoch: 441 loss: 0.309674471616745 test loss: 0.3169926106929779\n",
      "epoch: 496 loss: 0.3092762529850006 test loss: 0.31661784648895264\n"
     ]
    }
   ],
   "source": [
    "epochs = 550\n",
    "loss_fn = nn.BCELoss()\n",
    "optimizer = torch.optim.Adam(model.parameters(), lr=0.01)\n",
    "\n",
    "# training our network\n",
    "data = train_loop(model, epochs, loss_fn, optimizer)"
   ]
  },
  {
   "cell_type": "code",
   "execution_count": 75,
   "metadata": {
    "ExecuteTime": {
     "end_time": "2023-04-28T17:34:27.831470Z",
     "start_time": "2023-04-28T17:34:27.726882Z"
    }
   },
   "outputs": [
    {
     "data": {
      "image/png": "[encoded data removed]",
      "text/plain": [
       "<Figure size 640x480 with 1 Axes>"
      ]
     },
     "metadata": {},
     "output_type": "display_data"
    }
   ],
   "source": [
    "import seaborn as sns\n",
    "import matplotlib.pyplot as plt\n",
    "plt.style.use(\"ggplot\")\n",
    "\n",
    "chart = sns.lineplot(data)\n",
    "chart.set_title('Model Fit: Train vs Test')\n",
    "chart.set_xlabel('Epoch')\n",
    "chart.set_ylabel('Loss (Binary Cross Entropy)')\n",
    "plt.show()"
   ]
  },
  {
   "cell_type": "code",
   "execution_count": 76,
   "metadata": {
    "ExecuteTime": {
     "end_time": "2023-04-28T17:34:27.840236Z",
     "start_time": "2023-04-28T17:34:27.834173Z"
    }
   },
   "outputs": [
    {
     "name": "stdout",
     "output_type": "stream",
     "text": [
      "overall accuracy: 0.8531593757994372\n",
      "[[3234  768]\n",
      " [ 380 3436]]\n"
     ]
    }
   ],
   "source": [
    "# evaluating model's performance\n",
    "preds = torch.round(model(xteT))\n",
    "cm = confusion_matrix(preds.detach(), yteT.detach())\n",
    "print(f'overall accuracy: {(cm[0][0] + cm[1][1]) / cm.sum()}')\n",
    "print(cm) "
   ]
  },
  {
   "cell_type": "markdown",
   "metadata": {},
   "source": [
    "## Lets Add Some Data\n",
    "- The averages per tournament is useful information for our model\n",
    "- The accuracy went from roughly 85% to 87%"
   ]
  },
  {
   "cell_type": "code",
   "execution_count": 77,
   "metadata": {
    "ExecuteTime": {
     "end_time": "2023-04-28T17:34:27.843563Z",
     "start_time": "2023-04-28T17:34:27.840994Z"
    }
   },
   "outputs": [
    {
     "data": {
      "text/plain": [
       "Index(['tournament_id', 'player_name', 'score', 'Alabama', 'Arizona',\n",
       "       'California', 'Canada', 'Connecticut', 'Delaware', 'Florida', 'Georgia',\n",
       "       'Hawaii', 'Illinois', 'Kentucky', 'Maryland', 'Massachusetts', 'Mexico',\n",
       "       'Michigan', 'Minnesota', 'Missouri', 'New Jersey', 'New York',\n",
       "       'North Carolina', 'Ohio', 'Oklahoma', 'Pennsylvania', 'Scotland',\n",
       "       'South Carolina', 'Tennessee', 'Texas', 'sg_putt', 'sg_arg', 'sg_app',\n",
       "       'sg_ott', 'sg_t2g', 'sg_total', 'pos', 'putting', 'arg', 'app', 'ott',\n",
       "       't2g', 'result', 'tournament_putt', 'tournament_arg', 'tournament_app',\n",
       "       'tournament_ott', 'tournament_t2g', 'tournament_cluster'],\n",
       "      dtype='object')"
      ]
     },
     "execution_count": 77,
     "metadata": {},
     "output_type": "execute_result"
    }
   ],
   "source": [
    "df.columns"
   ]
  },
  {
   "cell_type": "code",
   "execution_count": 78,
   "metadata": {
    "ExecuteTime": {
     "end_time": "2023-04-28T17:34:27.882486Z",
     "start_time": "2023-04-28T17:34:27.845259Z"
    }
   },
   "outputs": [
    {
     "name": "stdout",
     "output_type": "stream",
     "text": [
      "sg_putt            0\n",
      "sg_arg             0\n",
      "sg_app             0\n",
      "sg_ott             0\n",
      "sg_t2g             0\n",
      "sg_total           0\n",
      "tournament_putt    0\n",
      "tournament_arg     0\n",
      "tournament_app     0\n",
      "tournament_ott     0\n",
      "tournament_t2g     0\n",
      "result             0\n",
      "dtype: int64\n"
     ]
    },
    {
     "data": {
      "text/html": [
       "<div>\n",
       "<style scoped>\n",
       "    .dataframe tbody tr th:only-of-type {\n",
       "        vertical-align: middle;\n",
       "    }\n",
       "\n",
       "    .dataframe tbody tr th {\n",
       "        vertical-align: top;\n",
       "    }\n",
       "\n",
       "    .dataframe thead th {\n",
       "        text-align: right;\n",
       "    }\n",
       "</style>\n",
       "<table border=\"1\" class=\"dataframe\">\n",
       "  <thead>\n",
       "    <tr style=\"text-align: right;\">\n",
       "      <th></th>\n",
       "      <th>sg_putt</th>\n",
       "      <th>sg_arg</th>\n",
       "      <th>sg_app</th>\n",
       "      <th>sg_ott</th>\n",
       "      <th>sg_t2g</th>\n",
       "      <th>sg_total</th>\n",
       "      <th>tournament_putt</th>\n",
       "      <th>tournament_arg</th>\n",
       "      <th>tournament_app</th>\n",
       "      <th>tournament_ott</th>\n",
       "      <th>tournament_t2g</th>\n",
       "      <th>result</th>\n",
       "    </tr>\n",
       "  </thead>\n",
       "  <tbody>\n",
       "    <tr>\n",
       "      <th>0</th>\n",
       "      <td>0.387</td>\n",
       "      <td>0.064</td>\n",
       "      <td>1.417</td>\n",
       "      <td>1.518</td>\n",
       "      <td>3.000</td>\n",
       "      <td>3.387</td>\n",
       "      <td>-0.125295</td>\n",
       "      <td>-0.053159</td>\n",
       "      <td>-0.217258</td>\n",
       "      <td>-0.091008</td>\n",
       "      <td>-0.361742</td>\n",
       "      <td>1</td>\n",
       "    </tr>\n",
       "    <tr>\n",
       "      <th>1</th>\n",
       "      <td>1.429</td>\n",
       "      <td>0.107</td>\n",
       "      <td>1.668</td>\n",
       "      <td>-0.067</td>\n",
       "      <td>1.707</td>\n",
       "      <td>3.137</td>\n",
       "      <td>-0.125295</td>\n",
       "      <td>-0.053159</td>\n",
       "      <td>-0.217258</td>\n",
       "      <td>-0.091008</td>\n",
       "      <td>-0.361742</td>\n",
       "      <td>1</td>\n",
       "    </tr>\n",
       "    <tr>\n",
       "      <th>2</th>\n",
       "      <td>1.017</td>\n",
       "      <td>0.944</td>\n",
       "      <td>1.093</td>\n",
       "      <td>-0.167</td>\n",
       "      <td>1.870</td>\n",
       "      <td>2.887</td>\n",
       "      <td>-0.125295</td>\n",
       "      <td>-0.053159</td>\n",
       "      <td>-0.217258</td>\n",
       "      <td>-0.091008</td>\n",
       "      <td>-0.361742</td>\n",
       "      <td>1</td>\n",
       "    </tr>\n",
       "    <tr>\n",
       "      <th>3</th>\n",
       "      <td>-0.187</td>\n",
       "      <td>0.165</td>\n",
       "      <td>1.887</td>\n",
       "      <td>1.022</td>\n",
       "      <td>3.074</td>\n",
       "      <td>2.887</td>\n",
       "      <td>-0.125295</td>\n",
       "      <td>-0.053159</td>\n",
       "      <td>-0.217258</td>\n",
       "      <td>-0.091008</td>\n",
       "      <td>-0.361742</td>\n",
       "      <td>1</td>\n",
       "    </tr>\n",
       "    <tr>\n",
       "      <th>4</th>\n",
       "      <td>2.118</td>\n",
       "      <td>0.414</td>\n",
       "      <td>-0.212</td>\n",
       "      <td>0.566</td>\n",
       "      <td>0.768</td>\n",
       "      <td>2.886</td>\n",
       "      <td>-0.125295</td>\n",
       "      <td>-0.053159</td>\n",
       "      <td>-0.217258</td>\n",
       "      <td>-0.091008</td>\n",
       "      <td>-0.361742</td>\n",
       "      <td>1</td>\n",
       "    </tr>\n",
       "  </tbody>\n",
       "</table>\n",
       "</div>"
      ],
      "text/plain": [
       "   sg_putt  sg_arg  sg_app  sg_ott  sg_t2g  sg_total  tournament_putt  \\\n",
       "0    0.387   0.064   1.417   1.518   3.000     3.387        -0.125295   \n",
       "1    1.429   0.107   1.668  -0.067   1.707     3.137        -0.125295   \n",
       "2    1.017   0.944   1.093  -0.167   1.870     2.887        -0.125295   \n",
       "3   -0.187   0.165   1.887   1.022   3.074     2.887        -0.125295   \n",
       "4    2.118   0.414  -0.212   0.566   0.768     2.886        -0.125295   \n",
       "\n",
       "   tournament_arg  tournament_app  tournament_ott  tournament_t2g  result  \n",
       "0       -0.053159       -0.217258       -0.091008       -0.361742       1  \n",
       "1       -0.053159       -0.217258       -0.091008       -0.361742       1  \n",
       "2       -0.053159       -0.217258       -0.091008       -0.361742       1  \n",
       "3       -0.053159       -0.217258       -0.091008       -0.361742       1  \n",
       "4       -0.053159       -0.217258       -0.091008       -0.361742       1  "
      ]
     },
     "execution_count": 78,
     "metadata": {},
     "output_type": "execute_result"
    }
   ],
   "source": [
    "# adding data about particular golf tournaments\n",
    "cols = ['sg_putt', 'sg_arg', 'sg_app', 'sg_ott', 'sg_t2g', 'sg_total', 'tournament_putt', 'tournament_arg', 'tournament_app',\n",
    "       'tournament_ott', 'tournament_t2g']\n",
    "middle_data = df[cols].copy()\n",
    "\n",
    "# create binary results column\n",
    "middle_data['result'] = df.pos.apply(lambda x: 1 if x != 'CUT' else 0)\n",
    "print(middle_data.isna().sum())\n",
    "middle_data.head()"
   ]
  },
  {
   "cell_type": "code",
   "execution_count": 79,
   "metadata": {
    "ExecuteTime": {
     "end_time": "2023-04-28T17:34:30.442872Z",
     "start_time": "2023-04-28T17:34:27.859651Z"
    }
   },
   "outputs": [
    {
     "name": "stdout",
     "output_type": "stream",
     "text": [
      "0.8733691481197237\n"
     ]
    },
    {
     "data": {
      "text/plain": [
       "array([[3328,  704],\n",
       "       [ 286, 3500]])"
      ]
     },
     "execution_count": 79,
     "metadata": {},
     "output_type": "execute_result"
    }
   ],
   "source": [
    "# cleaning up the dataset\n",
    "middle_data = middle_data.dropna(axis=0)\n",
    "\n",
    "# split data\n",
    "x = middle_data.copy()\n",
    "y = x.pop('result')\n",
    "\n",
    "xtr, xte, ytr, yte = train_test_split(x, y, test_size=0.33, random_state=42)\n",
    "\n",
    "# train model\n",
    "bit_better = RandomForestClassifier(random_state=42)\n",
    "bit_better.fit(xtr, ytr)\n",
    "\n",
    "# measure model\n",
    "print(bit_better.score(xte, yte))\n",
    "preds = bit_better.predict(xte)\n",
    "cm = confusion_matrix(preds, yte)\n",
    "cm"
   ]
  },
  {
   "cell_type": "markdown",
   "metadata": {},
   "source": [
    "## Adding Clusters\n",
    "- To try to group both tournaments and players I perfromed K-Means clustering on different player statistics as well as the different tournaments"
   ]
  },
  {
   "cell_type": "code",
   "execution_count": 80,
   "metadata": {
    "ExecuteTime": {
     "end_time": "2023-04-28T17:34:30.446423Z",
     "start_time": "2023-04-28T17:34:30.443766Z"
    }
   },
   "outputs": [
    {
     "data": {
      "text/plain": [
       "Index(['tournament_id', 'player_name', 'score', 'Alabama', 'Arizona',\n",
       "       'California', 'Canada', 'Connecticut', 'Delaware', 'Florida', 'Georgia',\n",
       "       'Hawaii', 'Illinois', 'Kentucky', 'Maryland', 'Massachusetts', 'Mexico',\n",
       "       'Michigan', 'Minnesota', 'Missouri', 'New Jersey', 'New York',\n",
       "       'North Carolina', 'Ohio', 'Oklahoma', 'Pennsylvania', 'Scotland',\n",
       "       'South Carolina', 'Tennessee', 'Texas', 'sg_putt', 'sg_arg', 'sg_app',\n",
       "       'sg_ott', 'sg_t2g', 'sg_total', 'pos', 'putting', 'arg', 'app', 'ott',\n",
       "       't2g', 'result', 'tournament_putt', 'tournament_arg', 'tournament_app',\n",
       "       'tournament_ott', 'tournament_t2g', 'tournament_cluster'],\n",
       "      dtype='object')"
      ]
     },
     "execution_count": 80,
     "metadata": {},
     "output_type": "execute_result"
    }
   ],
   "source": [
    "df.columns"
   ]
  },
  {
   "cell_type": "code",
   "execution_count": 81,
   "metadata": {
    "ExecuteTime": {
     "end_time": "2023-04-28T17:34:30.458191Z",
     "start_time": "2023-04-28T17:34:30.447930Z"
    }
   },
   "outputs": [
    {
     "data": {
      "text/html": [
       "<div>\n",
       "<style scoped>\n",
       "    .dataframe tbody tr th:only-of-type {\n",
       "        vertical-align: middle;\n",
       "    }\n",
       "\n",
       "    .dataframe tbody tr th {\n",
       "        vertical-align: top;\n",
       "    }\n",
       "\n",
       "    .dataframe thead th {\n",
       "        text-align: right;\n",
       "    }\n",
       "</style>\n",
       "<table border=\"1\" class=\"dataframe\">\n",
       "  <thead>\n",
       "    <tr style=\"text-align: right;\">\n",
       "      <th></th>\n",
       "      <th>sg_putt</th>\n",
       "      <th>sg_arg</th>\n",
       "      <th>sg_app</th>\n",
       "      <th>sg_ott</th>\n",
       "      <th>sg_t2g</th>\n",
       "      <th>sg_total</th>\n",
       "      <th>tournament_putt</th>\n",
       "      <th>tournament_arg</th>\n",
       "      <th>tournament_app</th>\n",
       "      <th>tournament_ott</th>\n",
       "      <th>tournament_t2g</th>\n",
       "      <th>putting</th>\n",
       "      <th>arg</th>\n",
       "      <th>app</th>\n",
       "      <th>ott</th>\n",
       "      <th>t2g</th>\n",
       "      <th>tournament_cluster</th>\n",
       "      <th>result</th>\n",
       "    </tr>\n",
       "  </thead>\n",
       "  <tbody>\n",
       "    <tr>\n",
       "      <th>0</th>\n",
       "      <td>0.387</td>\n",
       "      <td>0.064</td>\n",
       "      <td>1.417</td>\n",
       "      <td>1.518</td>\n",
       "      <td>3.000</td>\n",
       "      <td>3.387</td>\n",
       "      <td>-0.125295</td>\n",
       "      <td>-0.053159</td>\n",
       "      <td>-0.217258</td>\n",
       "      <td>-0.091008</td>\n",
       "      <td>-0.361742</td>\n",
       "      <td>1</td>\n",
       "      <td>1</td>\n",
       "      <td>1</td>\n",
       "      <td>3</td>\n",
       "      <td>3</td>\n",
       "      <td>3</td>\n",
       "      <td>1</td>\n",
       "    </tr>\n",
       "    <tr>\n",
       "      <th>1</th>\n",
       "      <td>1.429</td>\n",
       "      <td>0.107</td>\n",
       "      <td>1.668</td>\n",
       "      <td>-0.067</td>\n",
       "      <td>1.707</td>\n",
       "      <td>3.137</td>\n",
       "      <td>-0.125295</td>\n",
       "      <td>-0.053159</td>\n",
       "      <td>-0.217258</td>\n",
       "      <td>-0.091008</td>\n",
       "      <td>-0.361742</td>\n",
       "      <td>1</td>\n",
       "      <td>4</td>\n",
       "      <td>1</td>\n",
       "      <td>3</td>\n",
       "      <td>3</td>\n",
       "      <td>3</td>\n",
       "      <td>1</td>\n",
       "    </tr>\n",
       "    <tr>\n",
       "      <th>2</th>\n",
       "      <td>1.017</td>\n",
       "      <td>0.944</td>\n",
       "      <td>1.093</td>\n",
       "      <td>-0.167</td>\n",
       "      <td>1.870</td>\n",
       "      <td>2.887</td>\n",
       "      <td>-0.125295</td>\n",
       "      <td>-0.053159</td>\n",
       "      <td>-0.217258</td>\n",
       "      <td>-0.091008</td>\n",
       "      <td>-0.361742</td>\n",
       "      <td>0</td>\n",
       "      <td>2</td>\n",
       "      <td>0</td>\n",
       "      <td>0</td>\n",
       "      <td>2</td>\n",
       "      <td>3</td>\n",
       "      <td>1</td>\n",
       "    </tr>\n",
       "    <tr>\n",
       "      <th>3</th>\n",
       "      <td>-0.187</td>\n",
       "      <td>0.165</td>\n",
       "      <td>1.887</td>\n",
       "      <td>1.022</td>\n",
       "      <td>3.074</td>\n",
       "      <td>2.887</td>\n",
       "      <td>-0.125295</td>\n",
       "      <td>-0.053159</td>\n",
       "      <td>-0.217258</td>\n",
       "      <td>-0.091008</td>\n",
       "      <td>-0.361742</td>\n",
       "      <td>1</td>\n",
       "      <td>4</td>\n",
       "      <td>1</td>\n",
       "      <td>0</td>\n",
       "      <td>3</td>\n",
       "      <td>3</td>\n",
       "      <td>1</td>\n",
       "    </tr>\n",
       "    <tr>\n",
       "      <th>4</th>\n",
       "      <td>2.118</td>\n",
       "      <td>0.414</td>\n",
       "      <td>-0.212</td>\n",
       "      <td>0.566</td>\n",
       "      <td>0.768</td>\n",
       "      <td>2.886</td>\n",
       "      <td>-0.125295</td>\n",
       "      <td>-0.053159</td>\n",
       "      <td>-0.217258</td>\n",
       "      <td>-0.091008</td>\n",
       "      <td>-0.361742</td>\n",
       "      <td>1</td>\n",
       "      <td>4</td>\n",
       "      <td>1</td>\n",
       "      <td>3</td>\n",
       "      <td>3</td>\n",
       "      <td>3</td>\n",
       "      <td>1</td>\n",
       "    </tr>\n",
       "  </tbody>\n",
       "</table>\n",
       "</div>"
      ],
      "text/plain": [
       "   sg_putt  sg_arg  sg_app  sg_ott  sg_t2g  sg_total  tournament_putt  \\\n",
       "0    0.387   0.064   1.417   1.518   3.000     3.387        -0.125295   \n",
       "1    1.429   0.107   1.668  -0.067   1.707     3.137        -0.125295   \n",
       "2    1.017   0.944   1.093  -0.167   1.870     2.887        -0.125295   \n",
       "3   -0.187   0.165   1.887   1.022   3.074     2.887        -0.125295   \n",
       "4    2.118   0.414  -0.212   0.566   0.768     2.886        -0.125295   \n",
       "\n",
       "   tournament_arg  tournament_app  tournament_ott  tournament_t2g  putting  \\\n",
       "0       -0.053159       -0.217258       -0.091008       -0.361742        1   \n",
       "1       -0.053159       -0.217258       -0.091008       -0.361742        1   \n",
       "2       -0.053159       -0.217258       -0.091008       -0.361742        0   \n",
       "3       -0.053159       -0.217258       -0.091008       -0.361742        1   \n",
       "4       -0.053159       -0.217258       -0.091008       -0.361742        1   \n",
       "\n",
       "   arg  app  ott  t2g  tournament_cluster  result  \n",
       "0    1    1    3    3                   3       1  \n",
       "1    4    1    3    3                   3       1  \n",
       "2    2    0    0    2                   3       1  \n",
       "3    4    1    0    3                   3       1  \n",
       "4    4    1    3    3                   3       1  "
      ]
     },
     "execution_count": 81,
     "metadata": {},
     "output_type": "execute_result"
    }
   ],
   "source": [
    "# adding some data for our final model\n",
    "cols = ['sg_putt', 'sg_arg', 'sg_app', 'sg_ott', 'sg_t2g', 'sg_total',\n",
    "       'tournament_putt', 'tournament_arg', \n",
    "       'tournament_app', 'tournament_ott', 'tournament_t2g',\n",
    "        'putting', 'arg', 'app', 'ott', 't2g', 'tournament_cluster'\n",
    "       ]\n",
    "moreeee = df[cols].copy()\n",
    "moreeee['result'] = df.pos.apply(lambda x: 1 if x != 'CUT' else 0)\n",
    "\n",
    "# looking at data\n",
    "moreeee.head()"
   ]
  },
  {
   "cell_type": "code",
   "execution_count": 82,
   "metadata": {
    "ExecuteTime": {
     "end_time": "2023-04-28T17:34:30.493956Z",
     "start_time": "2023-04-28T17:34:30.459071Z"
    }
   },
   "outputs": [
    {
     "data": {
      "text/html": [
       "<div>\n",
       "<style scoped>\n",
       "    .dataframe tbody tr th:only-of-type {\n",
       "        vertical-align: middle;\n",
       "    }\n",
       "\n",
       "    .dataframe tbody tr th {\n",
       "        vertical-align: top;\n",
       "    }\n",
       "\n",
       "    .dataframe thead th {\n",
       "        text-align: right;\n",
       "    }\n",
       "</style>\n",
       "<table border=\"1\" class=\"dataframe\">\n",
       "  <thead>\n",
       "    <tr style=\"text-align: right;\">\n",
       "      <th></th>\n",
       "      <th>null-counts</th>\n",
       "      <th>dtype</th>\n",
       "    </tr>\n",
       "  </thead>\n",
       "  <tbody>\n",
       "    <tr>\n",
       "      <th>sg_putt</th>\n",
       "      <td>0</td>\n",
       "      <td>float64</td>\n",
       "    </tr>\n",
       "    <tr>\n",
       "      <th>sg_arg</th>\n",
       "      <td>0</td>\n",
       "      <td>float64</td>\n",
       "    </tr>\n",
       "    <tr>\n",
       "      <th>sg_app</th>\n",
       "      <td>0</td>\n",
       "      <td>float64</td>\n",
       "    </tr>\n",
       "    <tr>\n",
       "      <th>sg_ott</th>\n",
       "      <td>0</td>\n",
       "      <td>float64</td>\n",
       "    </tr>\n",
       "    <tr>\n",
       "      <th>sg_t2g</th>\n",
       "      <td>0</td>\n",
       "      <td>float64</td>\n",
       "    </tr>\n",
       "    <tr>\n",
       "      <th>sg_total</th>\n",
       "      <td>0</td>\n",
       "      <td>float64</td>\n",
       "    </tr>\n",
       "    <tr>\n",
       "      <th>tournament_putt</th>\n",
       "      <td>0</td>\n",
       "      <td>float64</td>\n",
       "    </tr>\n",
       "    <tr>\n",
       "      <th>tournament_arg</th>\n",
       "      <td>0</td>\n",
       "      <td>float64</td>\n",
       "    </tr>\n",
       "    <tr>\n",
       "      <th>tournament_app</th>\n",
       "      <td>0</td>\n",
       "      <td>float64</td>\n",
       "    </tr>\n",
       "    <tr>\n",
       "      <th>tournament_ott</th>\n",
       "      <td>0</td>\n",
       "      <td>float64</td>\n",
       "    </tr>\n",
       "    <tr>\n",
       "      <th>tournament_t2g</th>\n",
       "      <td>0</td>\n",
       "      <td>float64</td>\n",
       "    </tr>\n",
       "    <tr>\n",
       "      <th>putting</th>\n",
       "      <td>0</td>\n",
       "      <td>int64</td>\n",
       "    </tr>\n",
       "    <tr>\n",
       "      <th>arg</th>\n",
       "      <td>0</td>\n",
       "      <td>int64</td>\n",
       "    </tr>\n",
       "    <tr>\n",
       "      <th>app</th>\n",
       "      <td>0</td>\n",
       "      <td>int64</td>\n",
       "    </tr>\n",
       "    <tr>\n",
       "      <th>ott</th>\n",
       "      <td>0</td>\n",
       "      <td>int64</td>\n",
       "    </tr>\n",
       "    <tr>\n",
       "      <th>t2g</th>\n",
       "      <td>0</td>\n",
       "      <td>int64</td>\n",
       "    </tr>\n",
       "    <tr>\n",
       "      <th>tournament_cluster</th>\n",
       "      <td>0</td>\n",
       "      <td>int64</td>\n",
       "    </tr>\n",
       "    <tr>\n",
       "      <th>result</th>\n",
       "      <td>0</td>\n",
       "      <td>int64</td>\n",
       "    </tr>\n",
       "  </tbody>\n",
       "</table>\n",
       "</div>"
      ],
      "text/plain": [
       "                   null-counts    dtype\n",
       "sg_putt                      0  float64\n",
       "sg_arg                       0  float64\n",
       "sg_app                       0  float64\n",
       "sg_ott                       0  float64\n",
       "sg_t2g                       0  float64\n",
       "sg_total                     0  float64\n",
       "tournament_putt              0  float64\n",
       "tournament_arg               0  float64\n",
       "tournament_app               0  float64\n",
       "tournament_ott               0  float64\n",
       "tournament_t2g               0  float64\n",
       "putting                      0    int64\n",
       "arg                          0    int64\n",
       "app                          0    int64\n",
       "ott                          0    int64\n",
       "t2g                          0    int64\n",
       "tournament_cluster           0    int64\n",
       "result                       0    int64"
      ]
     },
     "execution_count": 82,
     "metadata": {},
     "output_type": "execute_result"
    }
   ],
   "source": [
    "# checking for null values\n",
    "info = pd.DataFrame((moreeee.isna().sum(), moreeee.dtypes)).transpose()\n",
    "info.columns = ['null-counts', 'dtype']\n",
    "info"
   ]
  },
  {
   "cell_type": "code",
   "execution_count": 83,
   "metadata": {
    "ExecuteTime": {
     "end_time": "2023-04-28T17:34:30.494434Z",
     "start_time": "2023-04-28T17:34:30.465206Z"
    }
   },
   "outputs": [
    {
     "data": {
      "text/plain": [
       "((15871, 17), (7818, 17))"
      ]
     },
     "execution_count": 83,
     "metadata": {},
     "output_type": "execute_result"
    }
   ],
   "source": [
    "# dropping null rows\n",
    "moreeee = moreeee.dropna(axis=0)\n",
    "\n",
    "# spliting into x and y\n",
    "x = moreeee.copy()\n",
    "y = x.pop('result')\n",
    "\n",
    "# creating training and test datasets\n",
    "xtr, xte, ytr, yte = train_test_split(x, y, test_size=0.33, random_state=42)\n",
    "xtr.shape, xte.shape"
   ]
  },
  {
   "cell_type": "code",
   "execution_count": 84,
   "metadata": {
    "ExecuteTime": {
     "end_time": "2023-04-28T17:34:32.938925Z",
     "start_time": "2023-04-28T17:34:30.472804Z"
    }
   },
   "outputs": [
    {
     "name": "stdout",
     "output_type": "stream",
     "text": [
      "0.8709388590432335\n",
      "[[3326  721]\n",
      " [ 288 3483]]\n"
     ]
    }
   ],
   "source": [
    "# build and fit the model\n",
    "best = RandomForestClassifier(random_state=42)\n",
    "best.fit(xtr, ytr)\n",
    "preds = best.predict(xte)\n",
    "\n",
    "# evaluate model\n",
    "print(best.score(xte, yte))\n",
    "print(confusion_matrix(preds, yte))"
   ]
  },
  {
   "cell_type": "code",
   "execution_count": 85,
   "metadata": {
    "ExecuteTime": {
     "end_time": "2023-04-28T17:34:35.387448Z",
     "start_time": "2023-04-28T17:34:32.941255Z"
    }
   },
   "outputs": [
    {
     "name": "stdout",
     "output_type": "stream",
     "text": [
      "0.8706830391404451\n",
      "[[3325  722]\n",
      " [ 289 3482]]\n"
     ]
    }
   ],
   "source": [
    "from sklearn.pipeline import Pipeline\n",
    "from sklearn.preprocessing import StandardScaler\n",
    "\n",
    "# build a model pipeline to scale data because the new data did not improve performance much\n",
    "my_pipeline = Pipeline([('scaler', StandardScaler()), \n",
    "                        ('forest', RandomForestClassifier(random_state=42))])\n",
    "my_pipeline.fit(xtr, ytr)\n",
    "preds = my_pipeline.predict(xte)\n",
    "\n",
    "# evaluate new model\n",
    "print(my_pipeline.score(xte, yte))\n",
    "print(confusion_matrix(preds, yte))"
   ]
  },
  {
   "cell_type": "code",
   "execution_count": 86,
   "metadata": {
    "ExecuteTime": {
     "end_time": "2023-04-28T17:34:35.404056Z",
     "start_time": "2023-04-28T17:34:35.388703Z"
    }
   },
   "outputs": [],
   "source": [
    "from sklearn.compose import ColumnTransformer\n",
    "from sklearn.preprocessing import OneHotEncoder, FunctionTransformer\n",
    "\n",
    "# tweaking how the clusters are represented\n",
    "# I converted to one hot encoding or dummy vars\n",
    "# splitting into x and y\n",
    "x = moreeee.copy()\n",
    "y = x.pop('result')\n",
    "\n",
    "# transforming dataframe\n",
    "cols_change = ['putting', 'arg', 'app', 'ott', 't2g', 'tournament_cluster']\n",
    "cols_nochange = [i for i in x.columns if i not in cols_change]\n",
    "col_trans = ColumnTransformer([('one hot', OneHotEncoder(sparse_output=False), cols_change),\n",
    "                              ('nothing', StandardScaler(), cols_nochange)])\n",
    "x = col_trans.fit_transform(x)\n",
    "\n",
    "# creating training and test datasets\n",
    "xtr, xte, ytr, yte = train_test_split(x, y, test_size=0.33, random_state=42)"
   ]
  },
  {
   "cell_type": "code",
   "execution_count": 87,
   "metadata": {
    "ExecuteTime": {
     "end_time": "2023-04-28T17:34:37.263641Z",
     "start_time": "2023-04-28T17:34:35.405116Z"
    }
   },
   "outputs": [
    {
     "name": "stdout",
     "output_type": "stream",
     "text": [
      "0.8679969301611665\n",
      "[[3312  730]\n",
      " [ 302 3474]]\n"
     ]
    }
   ],
   "source": [
    "# build new model\n",
    "best = RandomForestClassifier(random_state=42)\n",
    "best.fit(xtr, ytr)\n",
    "preds = best.predict(xte)\n",
    "\n",
    "# evaluate model / this model is worse\n",
    "print(best.score(xte, yte))\n",
    "print(confusion_matrix(preds, yte))"
   ]
  },
  {
   "cell_type": "markdown",
   "metadata": {},
   "source": [
    "## Add All Data\n",
    "- Add data about states"
   ]
  },
  {
   "cell_type": "code",
   "execution_count": 88,
   "metadata": {
    "ExecuteTime": {
     "end_time": "2023-04-28T17:34:37.276175Z",
     "start_time": "2023-04-28T17:34:37.263423Z"
    }
   },
   "outputs": [
    {
     "data": {
      "text/html": [
       "<div>\n",
       "<style scoped>\n",
       "    .dataframe tbody tr th:only-of-type {\n",
       "        vertical-align: middle;\n",
       "    }\n",
       "\n",
       "    .dataframe tbody tr th {\n",
       "        vertical-align: top;\n",
       "    }\n",
       "\n",
       "    .dataframe thead th {\n",
       "        text-align: right;\n",
       "    }\n",
       "</style>\n",
       "<table border=\"1\" class=\"dataframe\">\n",
       "  <thead>\n",
       "    <tr style=\"text-align: right;\">\n",
       "      <th></th>\n",
       "      <th>Alabama</th>\n",
       "      <th>Arizona</th>\n",
       "      <th>California</th>\n",
       "      <th>Canada</th>\n",
       "      <th>Connecticut</th>\n",
       "      <th>Delaware</th>\n",
       "      <th>Florida</th>\n",
       "      <th>Georgia</th>\n",
       "      <th>Hawaii</th>\n",
       "      <th>Illinois</th>\n",
       "      <th>...</th>\n",
       "      <th>arg</th>\n",
       "      <th>app</th>\n",
       "      <th>ott</th>\n",
       "      <th>t2g</th>\n",
       "      <th>tournament_putt</th>\n",
       "      <th>tournament_arg</th>\n",
       "      <th>tournament_app</th>\n",
       "      <th>tournament_ott</th>\n",
       "      <th>tournament_t2g</th>\n",
       "      <th>tournament_cluster</th>\n",
       "    </tr>\n",
       "  </thead>\n",
       "  <tbody>\n",
       "    <tr>\n",
       "      <th>10912</th>\n",
       "      <td>0</td>\n",
       "      <td>0</td>\n",
       "      <td>0</td>\n",
       "      <td>0</td>\n",
       "      <td>0</td>\n",
       "      <td>0</td>\n",
       "      <td>0</td>\n",
       "      <td>0</td>\n",
       "      <td>0</td>\n",
       "      <td>0</td>\n",
       "      <td>...</td>\n",
       "      <td>2</td>\n",
       "      <td>0</td>\n",
       "      <td>0</td>\n",
       "      <td>2</td>\n",
       "      <td>-0.132679</td>\n",
       "      <td>-0.086494</td>\n",
       "      <td>-0.171699</td>\n",
       "      <td>-0.093051</td>\n",
       "      <td>-0.351314</td>\n",
       "      <td>3</td>\n",
       "    </tr>\n",
       "    <tr>\n",
       "      <th>8121</th>\n",
       "      <td>0</td>\n",
       "      <td>0</td>\n",
       "      <td>0</td>\n",
       "      <td>0</td>\n",
       "      <td>0</td>\n",
       "      <td>0</td>\n",
       "      <td>0</td>\n",
       "      <td>0</td>\n",
       "      <td>0</td>\n",
       "      <td>0</td>\n",
       "      <td>...</td>\n",
       "      <td>4</td>\n",
       "      <td>1</td>\n",
       "      <td>3</td>\n",
       "      <td>3</td>\n",
       "      <td>-0.169723</td>\n",
       "      <td>-0.080538</td>\n",
       "      <td>-0.139765</td>\n",
       "      <td>-0.027504</td>\n",
       "      <td>-0.248076</td>\n",
       "      <td>1</td>\n",
       "    </tr>\n",
       "    <tr>\n",
       "      <th>3938</th>\n",
       "      <td>0</td>\n",
       "      <td>0</td>\n",
       "      <td>0</td>\n",
       "      <td>0</td>\n",
       "      <td>1</td>\n",
       "      <td>0</td>\n",
       "      <td>0</td>\n",
       "      <td>0</td>\n",
       "      <td>0</td>\n",
       "      <td>0</td>\n",
       "      <td>...</td>\n",
       "      <td>4</td>\n",
       "      <td>1</td>\n",
       "      <td>0</td>\n",
       "      <td>3</td>\n",
       "      <td>-0.199404</td>\n",
       "      <td>-0.055135</td>\n",
       "      <td>-0.166006</td>\n",
       "      <td>-0.096603</td>\n",
       "      <td>-0.317731</td>\n",
       "      <td>3</td>\n",
       "    </tr>\n",
       "    <tr>\n",
       "      <th>8695</th>\n",
       "      <td>0</td>\n",
       "      <td>0</td>\n",
       "      <td>0</td>\n",
       "      <td>0</td>\n",
       "      <td>0</td>\n",
       "      <td>0</td>\n",
       "      <td>0</td>\n",
       "      <td>0</td>\n",
       "      <td>0</td>\n",
       "      <td>0</td>\n",
       "      <td>...</td>\n",
       "      <td>4</td>\n",
       "      <td>1</td>\n",
       "      <td>0</td>\n",
       "      <td>3</td>\n",
       "      <td>-0.133587</td>\n",
       "      <td>-0.079271</td>\n",
       "      <td>-0.165665</td>\n",
       "      <td>-0.056310</td>\n",
       "      <td>-0.301587</td>\n",
       "      <td>4</td>\n",
       "    </tr>\n",
       "    <tr>\n",
       "      <th>21832</th>\n",
       "      <td>0</td>\n",
       "      <td>0</td>\n",
       "      <td>0</td>\n",
       "      <td>0</td>\n",
       "      <td>0</td>\n",
       "      <td>0</td>\n",
       "      <td>0</td>\n",
       "      <td>0</td>\n",
       "      <td>0</td>\n",
       "      <td>0</td>\n",
       "      <td>...</td>\n",
       "      <td>0</td>\n",
       "      <td>0</td>\n",
       "      <td>1</td>\n",
       "      <td>2</td>\n",
       "      <td>-0.107114</td>\n",
       "      <td>-0.037047</td>\n",
       "      <td>-0.115369</td>\n",
       "      <td>-0.102081</td>\n",
       "      <td>-0.254295</td>\n",
       "      <td>4</td>\n",
       "    </tr>\n",
       "  </tbody>\n",
       "</table>\n",
       "<p>5 rows × 44 columns</p>\n",
       "</div>"
      ],
      "text/plain": [
       "       Alabama  Arizona  California  Canada  Connecticut  Delaware  Florida  \\\n",
       "10912        0        0           0       0            0         0        0   \n",
       "8121         0        0           0       0            0         0        0   \n",
       "3938         0        0           0       0            1         0        0   \n",
       "8695         0        0           0       0            0         0        0   \n",
       "21832        0        0           0       0            0         0        0   \n",
       "\n",
       "       Georgia  Hawaii  Illinois  ...  arg  app  ott  t2g  tournament_putt  \\\n",
       "10912        0       0         0  ...    2    0    0    2        -0.132679   \n",
       "8121         0       0         0  ...    4    1    3    3        -0.169723   \n",
       "3938         0       0         0  ...    4    1    0    3        -0.199404   \n",
       "8695         0       0         0  ...    4    1    0    3        -0.133587   \n",
       "21832        0       0         0  ...    0    0    1    2        -0.107114   \n",
       "\n",
       "       tournament_arg  tournament_app  tournament_ott  tournament_t2g  \\\n",
       "10912       -0.086494       -0.171699       -0.093051       -0.351314   \n",
       "8121        -0.080538       -0.139765       -0.027504       -0.248076   \n",
       "3938        -0.055135       -0.166006       -0.096603       -0.317731   \n",
       "8695        -0.079271       -0.165665       -0.056310       -0.301587   \n",
       "21832       -0.037047       -0.115369       -0.102081       -0.254295   \n",
       "\n",
       "       tournament_cluster  \n",
       "10912                   3  \n",
       "8121                    1  \n",
       "3938                    3  \n",
       "8695                    4  \n",
       "21832                   4  \n",
       "\n",
       "[5 rows x 44 columns]"
      ]
     },
     "execution_count": 88,
     "metadata": {},
     "output_type": "execute_result"
    }
   ],
   "source": [
    "# splitting data\n",
    "everything = df.copy().iloc[:, 3:]\n",
    "x = everything\n",
    "x = x.drop('pos', axis=1)\n",
    "y = x.pop('result')\n",
    "\n",
    "# creating training and test datasets\n",
    "xtr, xte, ytr, yte = train_test_split(x, y, test_size=0.33, random_state=42)\n",
    "xtr.head()"
   ]
  },
  {
   "cell_type": "code",
   "execution_count": 89,
   "metadata": {
    "ExecuteTime": {
     "end_time": "2023-04-28T17:34:39.026196Z",
     "start_time": "2023-04-28T17:34:37.277496Z"
    }
   },
   "outputs": [
    {
     "data": {
      "text/plain": [
       "0.8736249680225121"
      ]
     },
     "execution_count": 89,
     "metadata": {},
     "output_type": "execute_result"
    }
   ],
   "source": [
    "# build and fit model\n",
    "i_hope_good = RandomForestClassifier(random_state=42)\n",
    "i_hope_good.fit(xtr, ytr)\n",
    "\n",
    "# model evaluation\n",
    "i_hope_good.score(xte, yte)"
   ]
  },
  {
   "cell_type": "markdown",
   "metadata": {},
   "source": [
    "## Lets Try Some Optimization\n",
    "- Will try to use different models\n",
    "- Will treak parameters of models\n",
    "- I have found that when predicting the cut the dataset can be much narrower, only including strokes gained data and the averages of the tournaments"
   ]
  },
  {
   "cell_type": "code",
   "execution_count": 90,
   "metadata": {
    "ExecuteTime": {
     "end_time": "2023-04-28T17:34:39.031821Z",
     "start_time": "2023-04-28T17:34:39.029705Z"
    }
   },
   "outputs": [
    {
     "data": {
      "text/html": [
       "<div>\n",
       "<style scoped>\n",
       "    .dataframe tbody tr th:only-of-type {\n",
       "        vertical-align: middle;\n",
       "    }\n",
       "\n",
       "    .dataframe tbody tr th {\n",
       "        vertical-align: top;\n",
       "    }\n",
       "\n",
       "    .dataframe thead th {\n",
       "        text-align: right;\n",
       "    }\n",
       "</style>\n",
       "<table border=\"1\" class=\"dataframe\">\n",
       "  <thead>\n",
       "    <tr style=\"text-align: right;\">\n",
       "      <th></th>\n",
       "      <th>sg_putt</th>\n",
       "      <th>sg_arg</th>\n",
       "      <th>sg_app</th>\n",
       "      <th>sg_ott</th>\n",
       "      <th>sg_t2g</th>\n",
       "      <th>sg_total</th>\n",
       "      <th>tournament_putt</th>\n",
       "      <th>tournament_arg</th>\n",
       "      <th>tournament_app</th>\n",
       "      <th>tournament_ott</th>\n",
       "      <th>tournament_t2g</th>\n",
       "      <th>result</th>\n",
       "    </tr>\n",
       "  </thead>\n",
       "  <tbody>\n",
       "    <tr>\n",
       "      <th>0</th>\n",
       "      <td>0.387</td>\n",
       "      <td>0.064</td>\n",
       "      <td>1.417</td>\n",
       "      <td>1.518</td>\n",
       "      <td>3.000</td>\n",
       "      <td>3.387</td>\n",
       "      <td>-0.125295</td>\n",
       "      <td>-0.053159</td>\n",
       "      <td>-0.217258</td>\n",
       "      <td>-0.091008</td>\n",
       "      <td>-0.361742</td>\n",
       "      <td>1</td>\n",
       "    </tr>\n",
       "    <tr>\n",
       "      <th>1</th>\n",
       "      <td>1.429</td>\n",
       "      <td>0.107</td>\n",
       "      <td>1.668</td>\n",
       "      <td>-0.067</td>\n",
       "      <td>1.707</td>\n",
       "      <td>3.137</td>\n",
       "      <td>-0.125295</td>\n",
       "      <td>-0.053159</td>\n",
       "      <td>-0.217258</td>\n",
       "      <td>-0.091008</td>\n",
       "      <td>-0.361742</td>\n",
       "      <td>1</td>\n",
       "    </tr>\n",
       "    <tr>\n",
       "      <th>2</th>\n",
       "      <td>1.017</td>\n",
       "      <td>0.944</td>\n",
       "      <td>1.093</td>\n",
       "      <td>-0.167</td>\n",
       "      <td>1.870</td>\n",
       "      <td>2.887</td>\n",
       "      <td>-0.125295</td>\n",
       "      <td>-0.053159</td>\n",
       "      <td>-0.217258</td>\n",
       "      <td>-0.091008</td>\n",
       "      <td>-0.361742</td>\n",
       "      <td>1</td>\n",
       "    </tr>\n",
       "    <tr>\n",
       "      <th>3</th>\n",
       "      <td>-0.187</td>\n",
       "      <td>0.165</td>\n",
       "      <td>1.887</td>\n",
       "      <td>1.022</td>\n",
       "      <td>3.074</td>\n",
       "      <td>2.887</td>\n",
       "      <td>-0.125295</td>\n",
       "      <td>-0.053159</td>\n",
       "      <td>-0.217258</td>\n",
       "      <td>-0.091008</td>\n",
       "      <td>-0.361742</td>\n",
       "      <td>1</td>\n",
       "    </tr>\n",
       "    <tr>\n",
       "      <th>4</th>\n",
       "      <td>2.118</td>\n",
       "      <td>0.414</td>\n",
       "      <td>-0.212</td>\n",
       "      <td>0.566</td>\n",
       "      <td>0.768</td>\n",
       "      <td>2.886</td>\n",
       "      <td>-0.125295</td>\n",
       "      <td>-0.053159</td>\n",
       "      <td>-0.217258</td>\n",
       "      <td>-0.091008</td>\n",
       "      <td>-0.361742</td>\n",
       "      <td>1</td>\n",
       "    </tr>\n",
       "  </tbody>\n",
       "</table>\n",
       "</div>"
      ],
      "text/plain": [
       "   sg_putt  sg_arg  sg_app  sg_ott  sg_t2g  sg_total  tournament_putt  \\\n",
       "0    0.387   0.064   1.417   1.518   3.000     3.387        -0.125295   \n",
       "1    1.429   0.107   1.668  -0.067   1.707     3.137        -0.125295   \n",
       "2    1.017   0.944   1.093  -0.167   1.870     2.887        -0.125295   \n",
       "3   -0.187   0.165   1.887   1.022   3.074     2.887        -0.125295   \n",
       "4    2.118   0.414  -0.212   0.566   0.768     2.886        -0.125295   \n",
       "\n",
       "   tournament_arg  tournament_app  tournament_ott  tournament_t2g  result  \n",
       "0       -0.053159       -0.217258       -0.091008       -0.361742       1  \n",
       "1       -0.053159       -0.217258       -0.091008       -0.361742       1  \n",
       "2       -0.053159       -0.217258       -0.091008       -0.361742       1  \n",
       "3       -0.053159       -0.217258       -0.091008       -0.361742       1  \n",
       "4       -0.053159       -0.217258       -0.091008       -0.361742       1  "
      ]
     },
     "execution_count": 90,
     "metadata": {},
     "output_type": "execute_result"
    }
   ],
   "source": [
    "# look at data\n",
    "middle_data.head()"
   ]
  },
  {
   "cell_type": "code",
   "execution_count": 91,
   "metadata": {
    "ExecuteTime": {
     "end_time": "2023-04-28T17:34:39.037527Z",
     "start_time": "2023-04-28T17:34:39.033210Z"
    }
   },
   "outputs": [
    {
     "name": "stdout",
     "output_type": "stream",
     "text": [
      "11844 5922\n",
      "(11844, 12)\n",
      "(5923, 12)\n",
      "(5923, 12)\n"
     ]
    }
   ],
   "source": [
    "# split data into 3 sets: training, testing, validation\n",
    "shuffled = middle_data.sample(frac=1, random_state=42)\n",
    "train_size = round(shuffled.shape[0] * 0.5)\n",
    "test_size = round(train_size * 0.5)\n",
    "print(train_size, test_size)\n",
    "\n",
    "train = shuffled.iloc[:train_size, :]\n",
    "print(train.shape)\n",
    "\n",
    "test = shuffled.iloc[train_size: train_size + test_size + 1, :]\n",
    "print(test.shape)\n",
    "\n",
    "validation = shuffled.iloc[train_size+test_size:, :]\n",
    "print(validation.shape)\n",
    "\n",
    "# splitting into x and y\n",
    "xtr = train\n",
    "ytr = xtr.pop('result')\n",
    "\n",
    "xte = test\n",
    "yte = xte.pop('result')\n",
    "\n",
    "xv = validation\n",
    "yv = xv.pop('result')"
   ]
  },
  {
   "cell_type": "code",
   "execution_count": 92,
   "metadata": {
    "ExecuteTime": {
     "end_time": "2023-04-28T17:34:39.133201Z",
     "start_time": "2023-04-28T17:34:39.038843Z"
    }
   },
   "outputs": [
    {
     "data": {
      "text/plain": [
       "0.850413641735607"
      ]
     },
     "execution_count": 92,
     "metadata": {},
     "output_type": "execute_result"
    }
   ],
   "source": [
    "# first model: Decision Tree\n",
    "from sklearn.tree import DecisionTreeClassifier\n",
    "\n",
    "# build model\n",
    "tree = DecisionTreeClassifier(random_state=42)\n",
    "tree.fit(xtr, ytr)\n",
    "tree.score(xte, yte)"
   ]
  },
  {
   "cell_type": "code",
   "execution_count": 93,
   "metadata": {
    "ExecuteTime": {
     "end_time": "2023-04-28T17:34:40.914989Z",
     "start_time": "2023-04-28T17:34:39.135706Z"
    }
   },
   "outputs": [
    {
     "data": {
      "text/plain": [
       "0.8755698125949688"
      ]
     },
     "execution_count": 93,
     "metadata": {},
     "output_type": "execute_result"
    }
   ],
   "source": [
    "# second model: Random Forest\n",
    "# build model\n",
    "forest = RandomForestClassifier(random_state=42)\n",
    "forest.fit(xtr, ytr)\n",
    "forest.score(xte, yte)"
   ]
  },
  {
   "cell_type": "code",
   "execution_count": 94,
   "metadata": {
    "ExecuteTime": {
     "end_time": "2023-04-28T17:34:41.044059Z",
     "start_time": "2023-04-28T17:34:40.920163Z"
    }
   },
   "outputs": [
    {
     "data": {
      "text/plain": [
       "0.8455174742529123"
      ]
     },
     "execution_count": 94,
     "metadata": {},
     "output_type": "execute_result"
    }
   ],
   "source": [
    "# third model: K-NN 15\n",
    "from sklearn.neighbors import KNeighborsClassifier\n",
    "\n",
    "# build model\n",
    "knn15 = KNeighborsClassifier(n_neighbors=15)\n",
    "knn15.fit(xtr, ytr)\n",
    "knn15.score(xte, yte)"
   ]
  },
  {
   "cell_type": "code",
   "execution_count": 95,
   "metadata": {
    "ExecuteTime": {
     "end_time": "2023-04-28T17:34:42.815655Z",
     "start_time": "2023-04-28T17:34:41.042837Z"
    }
   },
   "outputs": [
    {
     "data": {
      "text/plain": [
       "0.8598683099780516"
      ]
     },
     "execution_count": 95,
     "metadata": {},
     "output_type": "execute_result"
    }
   ],
   "source": [
    "# fourth model: SVM\n",
    "from sklearn.svm import SVC\n",
    "\n",
    "# build model\n",
    "svm = SVC(random_state=42)\n",
    "svm.fit(xtr, ytr)\n",
    "svm.score(xte, yte)"
   ]
  },
  {
   "cell_type": "code",
   "execution_count": 96,
   "metadata": {
    "ExecuteTime": {
     "end_time": "2023-04-28T17:34:44.873485Z",
     "start_time": "2023-04-28T17:34:42.817712Z"
    }
   },
   "outputs": [
    {
     "data": {
      "text/plain": [
       "0.8726996454499409"
      ]
     },
     "execution_count": 96,
     "metadata": {},
     "output_type": "execute_result"
    }
   ],
   "source": [
    "# fifth model: GradientBoosting\n",
    "from sklearn.ensemble import GradientBoostingClassifier\n",
    "\n",
    "# build model\n",
    "grad = GradientBoostingClassifier(random_state=42)\n",
    "grad.fit(xtr, ytr)\n",
    "grad.score(xte, yte)"
   ]
  },
  {
   "cell_type": "code",
   "execution_count": 97,
   "metadata": {
    "ExecuteTime": {
     "end_time": "2023-04-28T17:34:44.875593Z",
     "start_time": "2023-04-28T17:34:44.874007Z"
    }
   },
   "outputs": [],
   "source": [
    "### Run to find best params\n",
    "\n",
    "# # will try to optimize RandomForest because it had the highest accuracy\n",
    "# from sklearn.model_selection import GridSearchCV\n",
    "\n",
    "# # parameters\n",
    "# params = {\n",
    "#     'criterion': ['gini', 'entropy', 'log_loss'],\n",
    "#     'max_depth': [i for i in range(5, 35, 5)],\n",
    "#     'min_samples_split': [i for i in range(1, 1000, 100)],\n",
    "#     'min_samples_leaf': [i for i in range(1, 1000, 100)],\n",
    "#     'max_features': ['sqrt', 'log2', None]\n",
    "# }\n",
    "# forest = RandomForestClassifier(random_state=42, n_jobs=-1)\n",
    "\n",
    "# # optimized model\n",
    "# best_model = GridSearchCV(forest, params)\n",
    "# best_model.fit(xtr, ytr)\n",
    "# best_model.score(xte, yte)"
   ]
  },
  {
   "cell_type": "code",
   "execution_count": 110,
   "metadata": {
    "ExecuteTime": {
     "end_time": "2023-04-28T17:46:55.952893Z",
     "start_time": "2023-04-28T17:46:55.110003Z"
    }
   },
   "outputs": [],
   "source": [
    "import pickle\n",
    "\n",
    "# using params found by grid search\n",
    "best_params = {'criterion': 'entropy',\n",
    " 'max_depth': 25,\n",
    " 'max_features': None,\n",
    " 'min_samples_leaf': 1,\n",
    " 'min_samples_split': 1}\n",
    "\n",
    "# define model\n",
    "best_model = RandomForestClassifier(criterion='entropy', max_depth=25, max_features=None, \n",
    "                                    min_samples_leaf=1, random_state=42, n_jobs=-1)\n",
    "best_model.fit(xtr, ytr)\n",
    "best_model.score(xte, yte)\n",
    "\n",
    "# saving the model\n",
    "filename = 'made_the_cut.sav'\n",
    "pickle.dump(model, open(filename, 'wb'))"
   ]
  },
  {
   "cell_type": "code",
   "execution_count": 114,
   "metadata": {
    "ExecuteTime": {
     "end_time": "2023-04-28T18:05:35.041437Z",
     "start_time": "2023-04-28T18:05:35.001361Z"
    }
   },
   "outputs": [
    {
     "name": "stdout",
     "output_type": "stream",
     "text": [
      "0.8975181495863582\n",
      "[[0.85058978 0.14941022]\n",
      " [0.05259491 0.94740509]]\n"
     ]
    }
   ],
   "source": [
    "# final model performance on unseen validation data\n",
    "preds = best_model.predict(xv)\n",
    "print(best_model.score(xv, yv))\n",
    "print(confusion_matrix(preds, yv, normalize=\"true\"))"
   ]
  },
  {
   "cell_type": "code",
   "execution_count": 112,
   "metadata": {
    "ExecuteTime": {
     "end_time": "2023-04-28T17:47:00.846035Z",
     "start_time": "2023-04-28T17:47:00.835684Z"
    }
   },
   "outputs": [
    {
     "data": {
      "text/plain": [
       "Index(['sg_putt', 'sg_arg', 'sg_app', 'sg_ott', 'sg_t2g', 'sg_total',\n",
       "       'tournament_putt', 'tournament_arg', 'tournament_app', 'tournament_ott',\n",
       "       'tournament_t2g'],\n",
       "      dtype='object')"
      ]
     },
     "execution_count": 112,
     "metadata": {},
     "output_type": "execute_result"
    }
   ],
   "source": [
    "xv.columns"
   ]
  },
  {
   "cell_type": "markdown",
   "metadata": {},
   "source": [
    "## The Final Model"
   ]
  },
  {
   "cell_type": "code",
   "execution_count": 113,
   "metadata": {
    "ExecuteTime": {
     "end_time": "2023-04-28T17:47:04.401649Z",
     "start_time": "2023-04-28T17:47:04.390064Z"
    }
   },
   "outputs": [],
   "source": [
    "import pickle\n",
    "\n",
    "with open('made_the_cut.sav', 'rb') as the_model:\n",
    "    made_the_cut = pickle.load(the_model)"
   ]
  },
  {
   "cell_type": "code",
   "execution_count": 109,
   "metadata": {
    "ExecuteTime": {
     "end_time": "2023-04-28T17:43:37.004519Z",
     "start_time": "2023-04-28T17:43:37.001341Z"
    }
   },
   "outputs": [
    {
     "name": "stdout",
     "output_type": "stream",
     "text": [
      "RandomForestClassifier(criterion='entropy', max_depth=25, max_features=None,\n",
      "                       min_samples_split=1, n_jobs=-1, random_state=42)\n"
     ]
    }
   ],
   "source": [
    "print(made_the_cut.best_estimator_)"
   ]
  },
  {
   "cell_type": "code",
   "execution_count": null,
   "metadata": {},
   "outputs": [],
   "source": []
  }
 ],
 "metadata": {
  "kernelspec": {
   "display_name": "ds",
   "language": "python",
   "name": "python3"
  },
  "language_info": {
   "codemirror_mode": {
    "name": "ipython",
    "version": 3
   },
   "file_extension": ".py",
   "mimetype": "text/x-python",
   "name": "python",
   "nbconvert_exporter": "python",
   "pygments_lexer": "ipython3",
   "version": "3.11.3"
  },
  "vscode": {
   "interpreter": {
    "hash": "0bed53bd8db8f6e1a1b9e112c135bc8111e6b581ca2aa80741f476355aa707b9"
   }
  }
 },
 "nbformat": 4,
 "nbformat_minor": 4
}
