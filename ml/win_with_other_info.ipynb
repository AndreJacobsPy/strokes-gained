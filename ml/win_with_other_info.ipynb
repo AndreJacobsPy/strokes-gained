{
 "cells": [
  {
   "attachments": {},
   "cell_type": "markdown",
   "metadata": {},
   "source": [
    "## Import data"
   ]
  },
  {
   "cell_type": "code",
   "execution_count": 22,
   "metadata": {},
   "outputs": [
    {
     "data": {
      "text/plain": [
       "Index(['tournament_id', 'player_name', 'score', 'Alabama', 'Arizona',\n",
       "       'California', 'Canada', 'Connecticut', 'Delaware', 'Florida', 'Georgia',\n",
       "       'Hawaii', 'Illinois', 'Kentucky', 'Maryland', 'Massachusetts', 'Mexico',\n",
       "       'Michigan', 'Minnesota', 'Missouri', 'New Jersey', 'New York',\n",
       "       'North Carolina', 'Ohio', 'Oklahoma', 'Pennsylvania', 'Scotland',\n",
       "       'South Carolina', 'Tennessee', 'Texas', 'sg_putt', 'sg_arg', 'sg_app',\n",
       "       'sg_ott', 'sg_t2g', 'sg_total', 'pos', 'putting', 'arg', 'app', 'ott',\n",
       "       't2g', 'result', 'tournament_putt', 'tournament_arg', 'tournament_app',\n",
       "       'tournament_ott', 'tournament_t2g', 'tournament_cluster'],\n",
       "      dtype='object')"
      ]
     },
     "execution_count": 22,
     "metadata": {},
     "output_type": "execute_result"
    }
   ],
   "source": [
    "import pandas as pd\n",
    "from sklearn.ensemble import RandomForestClassifier\n",
    "from sklearn.model_selection import train_test_split\n",
    "from sklearn.metrics import confusion_matrix\n",
    "\n",
    "# read in data\n",
    "data = pd.read_csv('/Users/andrejacobs/Desktop/spring 2023/499/strokes_gained/ml/training_data.csv')\n",
    "data.columns"
   ]
  },
  {
   "cell_type": "code",
   "execution_count": 23,
   "metadata": {},
   "outputs": [],
   "source": [
    "def train_and_eval(data: pd.DataFrame):\n",
    "    info = dict()\n",
    "\n",
    "    data['result'] = data.pos.apply(lambda x: 1 if x == '1' else 0)\n",
    "\n",
    "    x = data.copy().dropna().drop('pos', axis=1)\n",
    "    y = x.pop('result')\n",
    "    xtr, xte, ytr, yte = train_test_split(x, y, random_state=42, test_size=0.33)\n",
    "\n",
    "    trees = RandomForestClassifier(random_state=42)\n",
    "    trees.fit(xtr, ytr)\n",
    "    info['features'] = trees.feature_names_in_\n",
    "\n",
    "    info['score'] = trees.score(xte, yte)\n",
    "    pred = trees.predict(xte)\n",
    "    info['confusion'] = confusion_matrix(yte, pred)\n",
    "\n",
    "    return info"
   ]
  },
  {
   "attachments": {},
   "cell_type": "markdown",
   "metadata": {},
   "source": [
    "## Model 1 (Just Strokes Gained)"
   ]
  },
  {
   "cell_type": "code",
   "execution_count": 24,
   "metadata": {},
   "outputs": [
    {
     "data": {
      "text/html": [
       "<div>\n",
       "<style scoped>\n",
       "    .dataframe tbody tr th:only-of-type {\n",
       "        vertical-align: middle;\n",
       "    }\n",
       "\n",
       "    .dataframe tbody tr th {\n",
       "        vertical-align: top;\n",
       "    }\n",
       "\n",
       "    .dataframe thead th {\n",
       "        text-align: right;\n",
       "    }\n",
       "</style>\n",
       "<table border=\"1\" class=\"dataframe\">\n",
       "  <thead>\n",
       "    <tr style=\"text-align: right;\">\n",
       "      <th></th>\n",
       "      <th>sg_putt</th>\n",
       "      <th>sg_arg</th>\n",
       "      <th>sg_app</th>\n",
       "      <th>sg_ott</th>\n",
       "      <th>sg_t2g</th>\n",
       "      <th>sg_total</th>\n",
       "      <th>pos</th>\n",
       "    </tr>\n",
       "  </thead>\n",
       "  <tbody>\n",
       "    <tr>\n",
       "      <th>0</th>\n",
       "      <td>0.387</td>\n",
       "      <td>0.064</td>\n",
       "      <td>1.417</td>\n",
       "      <td>1.518</td>\n",
       "      <td>3.000</td>\n",
       "      <td>3.387</td>\n",
       "      <td>1</td>\n",
       "    </tr>\n",
       "    <tr>\n",
       "      <th>1</th>\n",
       "      <td>1.429</td>\n",
       "      <td>0.107</td>\n",
       "      <td>1.668</td>\n",
       "      <td>-0.067</td>\n",
       "      <td>1.707</td>\n",
       "      <td>3.137</td>\n",
       "      <td>2</td>\n",
       "    </tr>\n",
       "    <tr>\n",
       "      <th>2</th>\n",
       "      <td>1.017</td>\n",
       "      <td>0.944</td>\n",
       "      <td>1.093</td>\n",
       "      <td>-0.167</td>\n",
       "      <td>1.870</td>\n",
       "      <td>2.887</td>\n",
       "      <td>T3</td>\n",
       "    </tr>\n",
       "    <tr>\n",
       "      <th>3</th>\n",
       "      <td>-0.187</td>\n",
       "      <td>0.165</td>\n",
       "      <td>1.887</td>\n",
       "      <td>1.022</td>\n",
       "      <td>3.074</td>\n",
       "      <td>2.887</td>\n",
       "      <td>T3</td>\n",
       "    </tr>\n",
       "    <tr>\n",
       "      <th>4</th>\n",
       "      <td>2.118</td>\n",
       "      <td>0.414</td>\n",
       "      <td>-0.212</td>\n",
       "      <td>0.566</td>\n",
       "      <td>0.768</td>\n",
       "      <td>2.886</td>\n",
       "      <td>T3</td>\n",
       "    </tr>\n",
       "  </tbody>\n",
       "</table>\n",
       "</div>"
      ],
      "text/plain": [
       "   sg_putt  sg_arg  sg_app  sg_ott  sg_t2g  sg_total pos\n",
       "0    0.387   0.064   1.417   1.518   3.000     3.387   1\n",
       "1    1.429   0.107   1.668  -0.067   1.707     3.137   2\n",
       "2    1.017   0.944   1.093  -0.167   1.870     2.887  T3\n",
       "3   -0.187   0.165   1.887   1.022   3.074     2.887  T3\n",
       "4    2.118   0.414  -0.212   0.566   0.768     2.886  T3"
      ]
     },
     "execution_count": 24,
     "metadata": {},
     "output_type": "execute_result"
    }
   ],
   "source": [
    "# getting data needed for first model\n",
    "one = data.copy()[['sg_putt', 'sg_arg', 'sg_app', 'sg_ott', 'sg_t2g', 'sg_total', 'pos']]\n",
    "\n",
    "# display data\n",
    "one.head()"
   ]
  },
  {
   "cell_type": "code",
   "execution_count": 25,
   "metadata": {},
   "outputs": [
    {
     "data": {
      "text/plain": [
       "{'features': array(['sg_putt', 'sg_arg', 'sg_app', 'sg_ott', 'sg_t2g', 'sg_total'],\n",
       "       dtype=object),\n",
       " 'score': 0.9938603223330775,\n",
       " 'confusion': array([[7746,    6],\n",
       "        [  42,   24]])}"
      ]
     },
     "execution_count": 25,
     "metadata": {},
     "output_type": "execute_result"
    }
   ],
   "source": [
    "train_and_eval(one)"
   ]
  },
  {
   "attachments": {},
   "cell_type": "markdown",
   "metadata": {},
   "source": [
    "## Model 2 (SG + Tournament SG) BAD NO IMPROVEMENT"
   ]
  },
  {
   "cell_type": "code",
   "execution_count": 26,
   "metadata": {},
   "outputs": [
    {
     "data": {
      "text/html": [
       "<div>\n",
       "<style scoped>\n",
       "    .dataframe tbody tr th:only-of-type {\n",
       "        vertical-align: middle;\n",
       "    }\n",
       "\n",
       "    .dataframe tbody tr th {\n",
       "        vertical-align: top;\n",
       "    }\n",
       "\n",
       "    .dataframe thead th {\n",
       "        text-align: right;\n",
       "    }\n",
       "</style>\n",
       "<table border=\"1\" class=\"dataframe\">\n",
       "  <thead>\n",
       "    <tr style=\"text-align: right;\">\n",
       "      <th></th>\n",
       "      <th>sg_putt</th>\n",
       "      <th>sg_arg</th>\n",
       "      <th>sg_app</th>\n",
       "      <th>sg_ott</th>\n",
       "      <th>sg_t2g</th>\n",
       "      <th>sg_total</th>\n",
       "      <th>tournament_putt</th>\n",
       "      <th>tournament_arg</th>\n",
       "      <th>tournament_app</th>\n",
       "      <th>tournament_ott</th>\n",
       "      <th>tournament_t2g</th>\n",
       "      <th>pos</th>\n",
       "    </tr>\n",
       "  </thead>\n",
       "  <tbody>\n",
       "    <tr>\n",
       "      <th>0</th>\n",
       "      <td>0.387</td>\n",
       "      <td>0.064</td>\n",
       "      <td>1.417</td>\n",
       "      <td>1.518</td>\n",
       "      <td>3.000</td>\n",
       "      <td>3.387</td>\n",
       "      <td>-0.125295</td>\n",
       "      <td>-0.053159</td>\n",
       "      <td>-0.217258</td>\n",
       "      <td>-0.091008</td>\n",
       "      <td>-0.361742</td>\n",
       "      <td>1</td>\n",
       "    </tr>\n",
       "    <tr>\n",
       "      <th>1</th>\n",
       "      <td>1.429</td>\n",
       "      <td>0.107</td>\n",
       "      <td>1.668</td>\n",
       "      <td>-0.067</td>\n",
       "      <td>1.707</td>\n",
       "      <td>3.137</td>\n",
       "      <td>-0.125295</td>\n",
       "      <td>-0.053159</td>\n",
       "      <td>-0.217258</td>\n",
       "      <td>-0.091008</td>\n",
       "      <td>-0.361742</td>\n",
       "      <td>2</td>\n",
       "    </tr>\n",
       "    <tr>\n",
       "      <th>2</th>\n",
       "      <td>1.017</td>\n",
       "      <td>0.944</td>\n",
       "      <td>1.093</td>\n",
       "      <td>-0.167</td>\n",
       "      <td>1.870</td>\n",
       "      <td>2.887</td>\n",
       "      <td>-0.125295</td>\n",
       "      <td>-0.053159</td>\n",
       "      <td>-0.217258</td>\n",
       "      <td>-0.091008</td>\n",
       "      <td>-0.361742</td>\n",
       "      <td>T3</td>\n",
       "    </tr>\n",
       "    <tr>\n",
       "      <th>3</th>\n",
       "      <td>-0.187</td>\n",
       "      <td>0.165</td>\n",
       "      <td>1.887</td>\n",
       "      <td>1.022</td>\n",
       "      <td>3.074</td>\n",
       "      <td>2.887</td>\n",
       "      <td>-0.125295</td>\n",
       "      <td>-0.053159</td>\n",
       "      <td>-0.217258</td>\n",
       "      <td>-0.091008</td>\n",
       "      <td>-0.361742</td>\n",
       "      <td>T3</td>\n",
       "    </tr>\n",
       "    <tr>\n",
       "      <th>4</th>\n",
       "      <td>2.118</td>\n",
       "      <td>0.414</td>\n",
       "      <td>-0.212</td>\n",
       "      <td>0.566</td>\n",
       "      <td>0.768</td>\n",
       "      <td>2.886</td>\n",
       "      <td>-0.125295</td>\n",
       "      <td>-0.053159</td>\n",
       "      <td>-0.217258</td>\n",
       "      <td>-0.091008</td>\n",
       "      <td>-0.361742</td>\n",
       "      <td>T3</td>\n",
       "    </tr>\n",
       "  </tbody>\n",
       "</table>\n",
       "</div>"
      ],
      "text/plain": [
       "   sg_putt  sg_arg  sg_app  sg_ott  sg_t2g  sg_total  tournament_putt   \n",
       "0    0.387   0.064   1.417   1.518   3.000     3.387        -0.125295  \\\n",
       "1    1.429   0.107   1.668  -0.067   1.707     3.137        -0.125295   \n",
       "2    1.017   0.944   1.093  -0.167   1.870     2.887        -0.125295   \n",
       "3   -0.187   0.165   1.887   1.022   3.074     2.887        -0.125295   \n",
       "4    2.118   0.414  -0.212   0.566   0.768     2.886        -0.125295   \n",
       "\n",
       "   tournament_arg  tournament_app  tournament_ott  tournament_t2g pos  \n",
       "0       -0.053159       -0.217258       -0.091008       -0.361742   1  \n",
       "1       -0.053159       -0.217258       -0.091008       -0.361742   2  \n",
       "2       -0.053159       -0.217258       -0.091008       -0.361742  T3  \n",
       "3       -0.053159       -0.217258       -0.091008       -0.361742  T3  \n",
       "4       -0.053159       -0.217258       -0.091008       -0.361742  T3  "
      ]
     },
     "execution_count": 26,
     "metadata": {},
     "output_type": "execute_result"
    }
   ],
   "source": [
    "# getting data for second model\n",
    "two = data.copy()[['sg_putt', 'sg_arg', 'sg_app', 'sg_ott', 'sg_t2g', 'sg_total', \n",
    "       'tournament_putt', 'tournament_arg', 'tournament_app', 'tournament_ott', \n",
    "       'tournament_t2g', 'pos']]\n",
    "\n",
    "# display data\n",
    "two.head()"
   ]
  },
  {
   "cell_type": "code",
   "execution_count": 27,
   "metadata": {},
   "outputs": [
    {
     "data": {
      "text/plain": [
       "{'features': array(['sg_putt', 'sg_arg', 'sg_app', 'sg_ott', 'sg_t2g', 'sg_total',\n",
       "        'tournament_putt', 'tournament_arg', 'tournament_app',\n",
       "        'tournament_ott', 'tournament_t2g'], dtype=object),\n",
       " 'score': 0.9936045024302891,\n",
       " 'confusion': array([[7744,    8],\n",
       "        [  42,   24]])}"
      ]
     },
     "execution_count": 27,
     "metadata": {},
     "output_type": "execute_result"
    }
   ],
   "source": [
    "train_and_eval(two)"
   ]
  },
  {
   "attachments": {},
   "cell_type": "markdown",
   "metadata": {},
   "source": [
    "## Model 3 (SG + Player Clusters)"
   ]
  },
  {
   "cell_type": "code",
   "execution_count": 29,
   "metadata": {},
   "outputs": [
    {
     "data": {
      "text/html": [
       "<div>\n",
       "<style scoped>\n",
       "    .dataframe tbody tr th:only-of-type {\n",
       "        vertical-align: middle;\n",
       "    }\n",
       "\n",
       "    .dataframe tbody tr th {\n",
       "        vertical-align: top;\n",
       "    }\n",
       "\n",
       "    .dataframe thead th {\n",
       "        text-align: right;\n",
       "    }\n",
       "</style>\n",
       "<table border=\"1\" class=\"dataframe\">\n",
       "  <thead>\n",
       "    <tr style=\"text-align: right;\">\n",
       "      <th></th>\n",
       "      <th>sg_putt</th>\n",
       "      <th>sg_arg</th>\n",
       "      <th>sg_app</th>\n",
       "      <th>sg_ott</th>\n",
       "      <th>sg_t2g</th>\n",
       "      <th>sg_total</th>\n",
       "      <th>pos</th>\n",
       "      <th>putting</th>\n",
       "      <th>arg</th>\n",
       "      <th>app</th>\n",
       "      <th>ott</th>\n",
       "      <th>t2g</th>\n",
       "    </tr>\n",
       "  </thead>\n",
       "  <tbody>\n",
       "    <tr>\n",
       "      <th>0</th>\n",
       "      <td>0.387</td>\n",
       "      <td>0.064</td>\n",
       "      <td>1.417</td>\n",
       "      <td>1.518</td>\n",
       "      <td>3.000</td>\n",
       "      <td>3.387</td>\n",
       "      <td>1</td>\n",
       "      <td>1</td>\n",
       "      <td>1</td>\n",
       "      <td>1</td>\n",
       "      <td>3</td>\n",
       "      <td>3</td>\n",
       "    </tr>\n",
       "    <tr>\n",
       "      <th>1</th>\n",
       "      <td>1.429</td>\n",
       "      <td>0.107</td>\n",
       "      <td>1.668</td>\n",
       "      <td>-0.067</td>\n",
       "      <td>1.707</td>\n",
       "      <td>3.137</td>\n",
       "      <td>2</td>\n",
       "      <td>1</td>\n",
       "      <td>4</td>\n",
       "      <td>1</td>\n",
       "      <td>3</td>\n",
       "      <td>3</td>\n",
       "    </tr>\n",
       "    <tr>\n",
       "      <th>2</th>\n",
       "      <td>1.017</td>\n",
       "      <td>0.944</td>\n",
       "      <td>1.093</td>\n",
       "      <td>-0.167</td>\n",
       "      <td>1.870</td>\n",
       "      <td>2.887</td>\n",
       "      <td>T3</td>\n",
       "      <td>0</td>\n",
       "      <td>2</td>\n",
       "      <td>0</td>\n",
       "      <td>0</td>\n",
       "      <td>2</td>\n",
       "    </tr>\n",
       "    <tr>\n",
       "      <th>3</th>\n",
       "      <td>-0.187</td>\n",
       "      <td>0.165</td>\n",
       "      <td>1.887</td>\n",
       "      <td>1.022</td>\n",
       "      <td>3.074</td>\n",
       "      <td>2.887</td>\n",
       "      <td>T3</td>\n",
       "      <td>1</td>\n",
       "      <td>4</td>\n",
       "      <td>1</td>\n",
       "      <td>0</td>\n",
       "      <td>3</td>\n",
       "    </tr>\n",
       "    <tr>\n",
       "      <th>4</th>\n",
       "      <td>2.118</td>\n",
       "      <td>0.414</td>\n",
       "      <td>-0.212</td>\n",
       "      <td>0.566</td>\n",
       "      <td>0.768</td>\n",
       "      <td>2.886</td>\n",
       "      <td>T3</td>\n",
       "      <td>1</td>\n",
       "      <td>4</td>\n",
       "      <td>1</td>\n",
       "      <td>3</td>\n",
       "      <td>3</td>\n",
       "    </tr>\n",
       "  </tbody>\n",
       "</table>\n",
       "</div>"
      ],
      "text/plain": [
       "   sg_putt  sg_arg  sg_app  sg_ott  sg_t2g  sg_total pos  putting  arg  app   \n",
       "0    0.387   0.064   1.417   1.518   3.000     3.387   1        1    1    1  \\\n",
       "1    1.429   0.107   1.668  -0.067   1.707     3.137   2        1    4    1   \n",
       "2    1.017   0.944   1.093  -0.167   1.870     2.887  T3        0    2    0   \n",
       "3   -0.187   0.165   1.887   1.022   3.074     2.887  T3        1    4    1   \n",
       "4    2.118   0.414  -0.212   0.566   0.768     2.886  T3        1    4    1   \n",
       "\n",
       "   ott  t2g  \n",
       "0    3    3  \n",
       "1    3    3  \n",
       "2    0    2  \n",
       "3    0    3  \n",
       "4    3    3  "
      ]
     },
     "execution_count": 29,
     "metadata": {},
     "output_type": "execute_result"
    }
   ],
   "source": [
    "# picking columns\n",
    "three = data.copy()[['sg_putt', 'sg_arg', 'sg_app', 'sg_ott', 'sg_t2g', 'sg_total', \n",
    "                     'pos', 'putting', 'arg', 'app', 'ott', 't2g']]\n",
    "\n",
    "# display data\n",
    "three.head()"
   ]
  },
  {
   "cell_type": "code",
   "execution_count": 30,
   "metadata": {},
   "outputs": [
    {
     "data": {
      "text/plain": [
       "{'features': array(['sg_putt', 'sg_arg', 'sg_app', 'sg_ott', 'sg_t2g', 'sg_total',\n",
       "        'putting', 'arg', 'app', 'ott', 't2g'], dtype=object),\n",
       " 'score': 0.9932207725761064,\n",
       " 'confusion': array([[7742,   10],\n",
       "        [  43,   23]])}"
      ]
     },
     "execution_count": 30,
     "metadata": {},
     "output_type": "execute_result"
    }
   ],
   "source": [
    "train_and_eval(three)"
   ]
  },
  {
   "attachments": {},
   "cell_type": "markdown",
   "metadata": {},
   "source": [
    "## Model 4 (SG + Tournament Cluster)"
   ]
  },
  {
   "cell_type": "code",
   "execution_count": 35,
   "metadata": {},
   "outputs": [
    {
     "data": {
      "text/html": [
       "<div>\n",
       "<style scoped>\n",
       "    .dataframe tbody tr th:only-of-type {\n",
       "        vertical-align: middle;\n",
       "    }\n",
       "\n",
       "    .dataframe tbody tr th {\n",
       "        vertical-align: top;\n",
       "    }\n",
       "\n",
       "    .dataframe thead th {\n",
       "        text-align: right;\n",
       "    }\n",
       "</style>\n",
       "<table border=\"1\" class=\"dataframe\">\n",
       "  <thead>\n",
       "    <tr style=\"text-align: right;\">\n",
       "      <th></th>\n",
       "      <th>sg_putt</th>\n",
       "      <th>sg_arg</th>\n",
       "      <th>sg_app</th>\n",
       "      <th>sg_ott</th>\n",
       "      <th>sg_t2g</th>\n",
       "      <th>sg_total</th>\n",
       "      <th>tournament_cluster</th>\n",
       "      <th>pos</th>\n",
       "    </tr>\n",
       "  </thead>\n",
       "  <tbody>\n",
       "    <tr>\n",
       "      <th>0</th>\n",
       "      <td>0.387</td>\n",
       "      <td>0.064</td>\n",
       "      <td>1.417</td>\n",
       "      <td>1.518</td>\n",
       "      <td>3.000</td>\n",
       "      <td>3.387</td>\n",
       "      <td>3</td>\n",
       "      <td>1</td>\n",
       "    </tr>\n",
       "    <tr>\n",
       "      <th>1</th>\n",
       "      <td>1.429</td>\n",
       "      <td>0.107</td>\n",
       "      <td>1.668</td>\n",
       "      <td>-0.067</td>\n",
       "      <td>1.707</td>\n",
       "      <td>3.137</td>\n",
       "      <td>3</td>\n",
       "      <td>2</td>\n",
       "    </tr>\n",
       "    <tr>\n",
       "      <th>2</th>\n",
       "      <td>1.017</td>\n",
       "      <td>0.944</td>\n",
       "      <td>1.093</td>\n",
       "      <td>-0.167</td>\n",
       "      <td>1.870</td>\n",
       "      <td>2.887</td>\n",
       "      <td>3</td>\n",
       "      <td>T3</td>\n",
       "    </tr>\n",
       "    <tr>\n",
       "      <th>3</th>\n",
       "      <td>-0.187</td>\n",
       "      <td>0.165</td>\n",
       "      <td>1.887</td>\n",
       "      <td>1.022</td>\n",
       "      <td>3.074</td>\n",
       "      <td>2.887</td>\n",
       "      <td>3</td>\n",
       "      <td>T3</td>\n",
       "    </tr>\n",
       "    <tr>\n",
       "      <th>4</th>\n",
       "      <td>2.118</td>\n",
       "      <td>0.414</td>\n",
       "      <td>-0.212</td>\n",
       "      <td>0.566</td>\n",
       "      <td>0.768</td>\n",
       "      <td>2.886</td>\n",
       "      <td>3</td>\n",
       "      <td>T3</td>\n",
       "    </tr>\n",
       "  </tbody>\n",
       "</table>\n",
       "</div>"
      ],
      "text/plain": [
       "   sg_putt  sg_arg  sg_app  sg_ott  sg_t2g  sg_total  tournament_cluster pos\n",
       "0    0.387   0.064   1.417   1.518   3.000     3.387                   3   1\n",
       "1    1.429   0.107   1.668  -0.067   1.707     3.137                   3   2\n",
       "2    1.017   0.944   1.093  -0.167   1.870     2.887                   3  T3\n",
       "3   -0.187   0.165   1.887   1.022   3.074     2.887                   3  T3\n",
       "4    2.118   0.414  -0.212   0.566   0.768     2.886                   3  T3"
      ]
     },
     "execution_count": 35,
     "metadata": {},
     "output_type": "execute_result"
    }
   ],
   "source": [
    "# last hope lol...\n",
    "four = data.copy()[['sg_putt', 'sg_arg', 'sg_app', 'sg_ott', 'sg_t2g', 'sg_total',\n",
    "                    'tournament_cluster', 'pos']]\n",
    "\n",
    "# display data\n",
    "four.head()"
   ]
  },
  {
   "cell_type": "code",
   "execution_count": 36,
   "metadata": {},
   "outputs": [
    {
     "data": {
      "text/plain": [
       "{'features': array(['sg_putt', 'sg_arg', 'sg_app', 'sg_ott', 'sg_t2g', 'sg_total',\n",
       "        'tournament_cluster'], dtype=object),\n",
       " 'score': 0.9939882322844718,\n",
       " 'confusion': array([[7747,    5],\n",
       "        [  42,   24]])}"
      ]
     },
     "execution_count": 36,
     "metadata": {},
     "output_type": "execute_result"
    }
   ],
   "source": [
    "train_and_eval(four)"
   ]
  },
  {
   "attachments": {},
   "cell_type": "markdown",
   "metadata": {},
   "source": [
    "None of the feature I added to try to capture golf course conditions made an impact on predicting winners."
   ]
  },
  {
   "cell_type": "code",
   "execution_count": null,
   "metadata": {},
   "outputs": [],
   "source": []
  }
 ],
 "metadata": {
  "kernelspec": {
   "display_name": "ds",
   "language": "python",
   "name": "python3"
  },
  "language_info": {
   "codemirror_mode": {
    "name": "ipython",
    "version": 3
   },
   "file_extension": ".py",
   "mimetype": "text/x-python",
   "name": "python",
   "nbconvert_exporter": "python",
   "pygments_lexer": "ipython3",
   "version": "3.11.3"
  },
  "orig_nbformat": 4
 },
 "nbformat": 4,
 "nbformat_minor": 2
}
