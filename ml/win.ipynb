{
 "cells": [
  {
   "cell_type": "markdown",
   "metadata": {},
   "source": [
    "# Building a Model to Predict a Winner"
   ]
  },
  {
   "cell_type": "code",
   "execution_count": 1,
   "metadata": {
    "ExecuteTime": {
     "end_time": "2023-04-28T16:14:26.167359Z",
     "start_time": "2023-04-28T16:14:26.122875Z"
    }
   },
   "outputs": [
    {
     "name": "stdout",
     "output_type": "stream",
     "text": [
      "(23703, 49) Index(['tournament_id', 'player_name', 'score', 'Alabama', 'Arizona',\n",
      "       'California', 'Canada', 'Connecticut', 'Delaware', 'Florida', 'Georgia',\n",
      "       'Hawaii', 'Illinois', 'Kentucky', 'Maryland', 'Massachusetts', 'Mexico',\n",
      "       'Michigan', 'Minnesota', 'Missouri', 'New Jersey', 'New York',\n",
      "       'North Carolina', 'Ohio', 'Oklahoma', 'Pennsylvania', 'Scotland',\n",
      "       'South Carolina', 'Tennessee', 'Texas', 'sg_putt', 'sg_arg', 'sg_app',\n",
      "       'sg_ott', 'sg_t2g', 'sg_total', 'pos', 'putting', 'arg', 'app', 'ott',\n",
      "       't2g', 'result', 'tournament_putt', 'tournament_arg', 'tournament_app',\n",
      "       'tournament_ott', 'tournament_t2g', 'tournament_cluster'],\n",
      "      dtype='object')\n"
     ]
    }
   ],
   "source": [
    "import pandas as pd\n",
    "import numpy as np\n",
    "import matplotlib.pyplot as plt\n",
    "import seaborn as sns\n",
    "plt.style.use('dark_background')\n",
    "\n",
    "# import the data\n",
    "data: pd.DataFrame = pd.read_pickle('training_data.pkl'); df = data.copy()\n",
    "data.head()\n",
    "print(data.shape, data.columns)"
   ]
  },
  {
   "cell_type": "code",
   "execution_count": 2,
   "metadata": {
    "ExecuteTime": {
     "end_time": "2023-04-28T16:14:26.202492Z",
     "start_time": "2023-04-28T16:14:26.142856Z"
    }
   },
   "outputs": [
    {
     "name": "stdout",
     "output_type": "stream",
     "text": [
      "0    23530\n",
      "1      173\n",
      "Name: result, dtype: int64\n"
     ]
    }
   ],
   "source": [
    "## need to update result column\n",
    "# replace result column with only winners instead of everyone who made the cut\n",
    "df['result'] = df['pos'].apply(lambda x: 1 if x == '1' else 0)\n",
    "print(df.result.value_counts())\n",
    "\n",
    "# now drop pos column\n",
    "df: pd.DataFrame = df.drop('pos', axis=1)"
   ]
  },
  {
   "cell_type": "markdown",
   "metadata": {},
   "source": [
    "## First Model"
   ]
  },
  {
   "cell_type": "code",
   "execution_count": 3,
   "metadata": {
    "ExecuteTime": {
     "end_time": "2023-04-28T16:14:27.015445Z",
     "start_time": "2023-04-28T16:14:26.147051Z"
    }
   },
   "outputs": [
    {
     "name": "stdout",
     "output_type": "stream",
     "text": [
      "0.995281847529178\n",
      "[[9.99625187e-01 3.74812594e-04]\n",
      " [7.00000000e-01 3.00000000e-01]]\n",
      "real accuracy: 0.3\n"
     ]
    }
   ],
   "source": [
    "from sklearn.ensemble import RandomForestClassifier\n",
    "from sklearn.metrics import confusion_matrix\n",
    "\n",
    "# splitting data into training and testing data\n",
    "first = df.copy().dropna(axis=0)\n",
    "x = first.iloc[:, 3:]\n",
    "y = x.pop('result')\n",
    "\n",
    "x, y = x.values, y.values\n",
    "\n",
    "train_size = round(0.66 * x.shape[0])\n",
    "shuffle = np.argsort(np.random.random(x.shape[0]))\n",
    "x, y = x[shuffle], y[shuffle]\n",
    "xtr, ytr, xte, yte = x[:train_size], y[:train_size], x[train_size:], y[train_size:]\n",
    "\n",
    "# fitting model\n",
    "model = RandomForestClassifier(random_state=42)\n",
    "model.fit(xtr, ytr)\n",
    "preds: np.array = model.predict(xte)\n",
    "print(model.score(xte, yte))\n",
    "\n",
    "cm: np.array = confusion_matrix(yte, preds, normalize=\"true\")\n",
    "print(cm)\n",
    "\n",
    "# real accuracy\n",
    "print(f'real accuracy: {cm[1][1] / sum(cm[1])}')"
   ]
  },
  {
   "cell_type": "code",
   "execution_count": 4,
   "metadata": {
    "ExecuteTime": {
     "end_time": "2023-04-28T16:14:27.018345Z",
     "start_time": "2023-04-28T16:14:27.017099Z"
    }
   },
   "outputs": [],
   "source": [
    "colors = sns.color_palette(\"mako\", as_cmap=True)\n",
    "\n",
    "def plot_matrix(cm: np.array) -> None:\n",
    "    # creating heatmap\n",
    "    heatmap = sns.heatmap(cm, cmap=colors, annot=True, fmt='g')\n",
    "    labels = ['lose', 'win']\n",
    "\n",
    "    ## prettifying heatmap\n",
    "    # adding axis labels\n",
    "    heatmap.xaxis.set_ticklabels(labels)\n",
    "    heatmap.yaxis.set_ticklabels(labels)\n",
    "\n",
    "    # adding titles\n",
    "    heatmap.set_title('Confusion Matrix with Augmented Data')\n",
    "    heatmap.set_ylabel('Actual')\n",
    "    heatmap.set_xlabel('Predicted')\n",
    "\n",
    "    # showing the plot\n",
    "    plt.show()"
   ]
  },
  {
   "cell_type": "code",
   "execution_count": 5,
   "metadata": {
    "ExecuteTime": {
     "end_time": "2023-04-28T16:14:27.095800Z",
     "start_time": "2023-04-28T16:14:27.021559Z"
    }
   },
   "outputs": [
    {
     "data": {
      "image/png": "[encoded data removed]",
      "text/plain": [
       "<Figure size 640x480 with 2 Axes>"
      ]
     },
     "metadata": {},
     "output_type": "display_data"
    }
   ],
   "source": [
    "plot_matrix(cm)"
   ]
  },
  {
   "cell_type": "markdown",
   "metadata": {},
   "source": [
    "## Data Augmentation"
   ]
  },
  {
   "cell_type": "code",
   "execution_count": 6,
   "metadata": {
    "ExecuteTime": {
     "end_time": "2023-04-28T16:14:27.095937Z",
     "start_time": "2023-04-28T16:14:27.092916Z"
    }
   },
   "outputs": [],
   "source": [
    "data: pd.DataFrame = df[['sg_putt', 'sg_arg', 'sg_app', 'sg_ott', 'sg_t2g', 'sg_total', 'result']].copy()"
   ]
  },
  {
   "cell_type": "code",
   "execution_count": 7,
   "metadata": {
    "ExecuteTime": {
     "end_time": "2023-04-28T16:14:27.111643Z",
     "start_time": "2023-04-28T16:14:27.099876Z"
    }
   },
   "outputs": [
    {
     "data": {
      "text/plain": [
       "(5518, 7)"
      ]
     },
     "execution_count": 7,
     "metadata": {},
     "output_type": "execute_result"
    }
   ],
   "source": [
    "from sklearn.decomposition import PCA\n",
    "\n",
    "# getting just winners and deciding which columns will be changed by adding normal noise\n",
    "winners = data.query('result == 1').dropna(axis=0)\n",
    "to_change = [i for i in range(0, 6)]\n",
    "\n",
    "## I am going to create two dataframe and join them horizontally\n",
    "# start by adding noise to the data\n",
    "pca = PCA()\n",
    "new_data: pd.DataFrame = winners.copy()\n",
    "trans = pca.fit_transform(new_data.values)\n",
    "# print(trans.shape)\n",
    "\n",
    "above = np.array([])\n",
    "below = np.array([])\n",
    "for row in trans:\n",
    "    noise = np.random.normal(size=11, scale=0.01)\n",
    "    i = 0\n",
    "    above_row = np.array([])\n",
    "    below_row = np.array([])\n",
    "\n",
    "    for idx, item in enumerate(row):\n",
    "        if idx in to_change:\n",
    "            above_row = np.append(above_row, item + noise[i])\n",
    "            below_row = np.append(below_row, item - noise[i])\n",
    "\n",
    "            i += 1\n",
    "        else:\n",
    "            above_row = np.append(above_row, item)\n",
    "            below_row = np.append(below_row, item)\n",
    "\n",
    "    above = np.append(above, above_row)\n",
    "    below = np.append(below, below_row)\n",
    "\n",
    "# adding augmented data to orignial winners data\n",
    "above = pca.inverse_transform(above.reshape(-1, 7))\n",
    "below = pca.inverse_transform(below.reshape(-1, 7))\n",
    "winners_improved = np.vstack((winners, above, below))\n",
    "winners_improved.shape\n",
    "\n",
    "# adding winners data to non-winners\n",
    "non_winners = data.query('result == 0').sample(5000).dropna(axis=0).values # sample only 3000 of non winners to make two classes more even\n",
    "all_data = np.vstack((winners_improved, non_winners))\n",
    "all_data.shape"
   ]
  },
  {
   "cell_type": "markdown",
   "metadata": {},
   "source": [
    "## Training same model with Augmented Data"
   ]
  },
  {
   "cell_type": "code",
   "execution_count": 8,
   "metadata": {
    "ExecuteTime": {
     "end_time": "2023-04-28T16:14:27.134891Z",
     "start_time": "2023-04-28T16:14:27.111814Z"
    }
   },
   "outputs": [],
   "source": [
    "# first shuffle and split the data\n",
    "order = np.argsort(np.random.random(size=all_data.shape[0]))\n",
    "train_size = int(np.floor(all_data.shape[0] * 0.5))\n",
    "validation_size = int(np.floor(all_data.shape[0] * 0.75))\n",
    "\n",
    "shuffled = all_data[order]\n",
    "shuffled = shuffled[~np.isnan(shuffled)].reshape(-1, 7)\n",
    "shuffled.shape\n",
    "train = shuffled[:train_size]\n",
    "test = shuffled[train_size:validation_size]\n",
    "validation = shuffled[validation_size:]\n",
    "\n",
    "# split data up into inputs and labels\n",
    "xtr, ytr = train[:, :-1], np.round(train[:, -1])\n",
    "xte, yte = test[:, :-1], np.round(test[:, -1])\n",
    "xval, yval = validation[:, :-1], np.round(validation[:, -1])"
   ]
  },
  {
   "cell_type": "code",
   "execution_count": 9,
   "metadata": {
    "ExecuteTime": {
     "end_time": "2023-04-28T16:14:27.135192Z",
     "start_time": "2023-04-28T16:14:27.116438Z"
    }
   },
   "outputs": [],
   "source": [
    "# fitting model with column names\n",
    "xtr = pd.DataFrame(xtr)\n",
    "xtr.columns = ['sg_putt', 'sg_arg', 'sg_app', 'sg_ott', 'sg_t2g', 'sg_total']\n",
    "\n",
    "xte = pd.DataFrame(xte)\n",
    "xte.columns = ['sg_putt', 'sg_arg', 'sg_app', 'sg_ott', 'sg_t2g', 'sg_total']\n",
    "\n",
    "xval = pd.DataFrame(xval)\n",
    "xval.columns = ['sg_putt', 'sg_arg', 'sg_app', 'sg_ott', 'sg_t2g', 'sg_total']"
   ]
  },
  {
   "cell_type": "code",
   "execution_count": 10,
   "metadata": {
    "ExecuteTime": {
     "end_time": "2023-04-28T16:14:27.313326Z",
     "start_time": "2023-04-28T16:14:27.121269Z"
    }
   },
   "outputs": [
    {
     "name": "stdout",
     "output_type": "stream",
     "text": [
      "['sg_putt' 'sg_arg' 'sg_app' 'sg_ott' 'sg_t2g' 'sg_total']\n",
      "0.9804205946337926\n"
     ]
    },
    {
     "data": {
      "text/plain": [
       "array([[1223,   21],\n",
       "       [   6,  129]])"
      ]
     },
     "execution_count": 10,
     "metadata": {},
     "output_type": "execute_result"
    }
   ],
   "source": [
    "# building model\n",
    "model2 = RandomForestClassifier(random_state=42)\n",
    "model2.fit(xtr, ytr)\n",
    "print(model2.feature_names_in_)\n",
    "print(model2.score(xte, yte))\n",
    "\n",
    "# testing model\n",
    "preds = model2.predict(xte)\n",
    "cm2 = confusion_matrix(yte, preds)\n",
    "cm2"
   ]
  },
  {
   "cell_type": "code",
   "execution_count": 11,
   "metadata": {
    "ExecuteTime": {
     "end_time": "2023-04-28T16:14:27.325053Z",
     "start_time": "2023-04-28T16:14:27.315096Z"
    }
   },
   "outputs": [
    {
     "data": {
      "text/plain": [
       "array([[0.985623, 0.014377],\n",
       "       [0.03125 , 0.96875 ]])"
      ]
     },
     "execution_count": 11,
     "metadata": {},
     "output_type": "execute_result"
    }
   ],
   "source": [
    "# testing using completely new data\n",
    "preds_val = model2.predict(xval)\n",
    "cm3 = confusion_matrix(yval, preds_val, normalize=\"true\")\n",
    "cm3"
   ]
  },
  {
   "cell_type": "code",
   "execution_count": 12,
   "metadata": {
    "ExecuteTime": {
     "end_time": "2023-04-28T16:14:27.355778Z",
     "start_time": "2023-04-28T16:14:27.326526Z"
    }
   },
   "outputs": [
    {
     "data": {
      "text/plain": [
       "(0.9840579710144928, 0.96875)"
      ]
     },
     "execution_count": 12,
     "metadata": {},
     "output_type": "execute_result"
    }
   ],
   "source": [
    "# overall score and winner success score\n",
    "model2.score(xval, yval), 1 - cm3[1][0] / cm3[1].sum()"
   ]
  },
  {
   "cell_type": "code",
   "execution_count": 13,
   "metadata": {
    "ExecuteTime": {
     "end_time": "2023-04-28T16:14:27.410354Z",
     "start_time": "2023-04-28T16:14:27.352001Z"
    }
   },
   "outputs": [
    {
     "data": {
      "image/png": "[encoded data removed]",
      "text/plain": [
       "<Figure size 640x480 with 2 Axes>"
      ]
     },
     "metadata": {},
     "output_type": "display_data"
    }
   ],
   "source": [
    "plot_matrix(cm3)"
   ]
  },
  {
   "attachments": {},
   "cell_type": "markdown",
   "metadata": {},
   "source": [
    "## Getting Baseline"
   ]
  },
  {
   "cell_type": "code",
   "execution_count": 14,
   "metadata": {
    "ExecuteTime": {
     "end_time": "2023-04-28T16:14:27.415793Z",
     "start_time": "2023-04-28T16:14:27.413707Z"
    }
   },
   "outputs": [
    {
     "data": {
      "text/plain": [
       "0.0    1252\n",
       "1.0     128\n",
       "dtype: int64"
      ]
     },
     "execution_count": 14,
     "metadata": {},
     "output_type": "execute_result"
    }
   ],
   "source": [
    "pd.Series(yval).value_counts()"
   ]
  },
  {
   "cell_type": "markdown",
   "metadata": {},
   "source": [
    "## Data Augmentation Worked!!!!"
   ]
  },
  {
   "cell_type": "code",
   "execution_count": 15,
   "metadata": {
    "ExecuteTime": {
     "end_time": "2023-04-28T16:14:27.419908Z",
     "start_time": "2023-04-28T16:14:27.416419Z"
    }
   },
   "outputs": [],
   "source": [
    "import pickle\n",
    "\n",
    "# save this model\n",
    "filename = 'winners_model.sav'\n",
    "pickle.dump(model2, open(filename, 'wb'))"
   ]
  },
  {
   "cell_type": "code",
   "execution_count": 16,
   "metadata": {
    "ExecuteTime": {
     "end_time": "2023-04-28T16:14:27.422399Z",
     "start_time": "2023-04-28T16:14:27.421095Z"
    }
   },
   "outputs": [],
   "source": [
    "def make_prediction(model: RandomForestClassifier, data: list, prob: bool = False) -> np.array:\n",
    "    data_ = pd.DataFrame(data)\n",
    "    data_.columns = ['sg_putt', 'sg_arg', 'sg_app', 'sg_ott', 'sg_t2g', 'sg_total']\n",
    "\n",
    "    if prob:\n",
    "        return model.predict_proba(data_)\n",
    "\n",
    "    else:\n",
    "        return model.predict(data_)"
   ]
  },
  {
   "cell_type": "code",
   "execution_count": 17,
   "metadata": {
    "ExecuteTime": {
     "end_time": "2023-04-28T16:14:27.429746Z",
     "start_time": "2023-04-28T16:14:27.424773Z"
    }
   },
   "outputs": [
    {
     "data": {
      "text/plain": [
       "1.0"
      ]
     },
     "execution_count": 17,
     "metadata": {},
     "output_type": "execute_result"
    }
   ],
   "source": [
    "make_prediction(model2, [[0.49, 0.77, 1.21, 1.58, 3.56, 4.05]])[0]"
   ]
  },
  {
   "cell_type": "code",
   "execution_count": 18,
   "metadata": {
    "ExecuteTime": {
     "end_time": "2023-04-28T16:14:27.454245Z",
     "start_time": "2023-04-28T16:14:27.430841Z"
    }
   },
   "outputs": [
    {
     "data": {
      "text/plain": [
       "0.0"
      ]
     },
     "execution_count": 18,
     "metadata": {},
     "output_type": "execute_result"
    }
   ],
   "source": [
    "make_prediction(model2, [[+1.24,-0.17,+1.18,+0.81,+1.81,+3.05]])[0]"
   ]
  },
  {
   "cell_type": "code",
   "execution_count": 19,
   "metadata": {
    "ExecuteTime": {
     "end_time": "2023-04-28T16:14:27.454563Z",
     "start_time": "2023-04-28T16:14:27.437994Z"
    }
   },
   "outputs": [
    {
     "data": {
      "text/plain": [
       "0.0"
      ]
     },
     "execution_count": 19,
     "metadata": {},
     "output_type": "execute_result"
    }
   ],
   "source": [
    "make_prediction(model2, [[+1.23,-0.37,+1.62,+0.58,+1.82,+3.05]])[0]"
   ]
  },
  {
   "cell_type": "code",
   "execution_count": 20,
   "metadata": {
    "ExecuteTime": {
     "end_time": "2023-04-28T16:14:27.454719Z",
     "start_time": "2023-04-28T16:14:27.445274Z"
    }
   },
   "outputs": [
    {
     "data": {
      "text/plain": [
       "0.0"
      ]
     },
     "execution_count": 20,
     "metadata": {},
     "output_type": "execute_result"
    }
   ],
   "source": [
    "make_prediction(model2, [[+0.84,+0.77,+0.66,+0.53,+1.96,+2.80]])[0]"
   ]
  },
  {
   "cell_type": "code",
   "execution_count": 21,
   "metadata": {
    "ExecuteTime": {
     "end_time": "2023-04-28T16:14:27.460313Z",
     "start_time": "2023-04-28T16:14:27.451987Z"
    }
   },
   "outputs": [
    {
     "data": {
      "text/plain": [
       "0.0"
      ]
     },
     "execution_count": 21,
     "metadata": {},
     "output_type": "execute_result"
    }
   ],
   "source": [
    "make_prediction(model2, [[+0.81,+0.06,+0.73,+0.96,+1.74,+2.55]])[0]"
   ]
  },
  {
   "cell_type": "code",
   "execution_count": null,
   "metadata": {
    "ExecuteTime": {
     "end_time": "2023-04-28T16:14:27.460425Z",
     "start_time": "2023-04-28T16:14:27.458950Z"
    }
   },
   "outputs": [],
   "source": []
  }
 ],
 "metadata": {
  "kernelspec": {
   "display_name": "Python 3 (ipykernel)",
   "language": "python",
   "name": "python3"
  },
  "language_info": {
   "codemirror_mode": {
    "name": "ipython",
    "version": 3
   },
   "file_extension": ".py",
   "mimetype": "text/x-python",
   "name": "python",
   "nbconvert_exporter": "python",
   "pygments_lexer": "ipython3",
   "version": "3.11.3"
  }
 },
 "nbformat": 4,
 "nbformat_minor": 2
}
