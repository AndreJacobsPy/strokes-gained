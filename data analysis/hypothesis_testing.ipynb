{
 "cells": [
  {
   "attachments": {},
   "cell_type": "markdown",
   "metadata": {},
   "source": [
    "## Hypothesis Testing to Test Some Classical Golf Theories"
   ]
  },
  {
   "attachments": {},
   "cell_type": "markdown",
   "metadata": {},
   "source": [
    "### The Drive for Show Putt for Dough theory"
   ]
  },
  {
   "cell_type": "code",
   "execution_count": 8,
   "metadata": {
    "ExecuteTime": {
     "end_time": "2023-04-28T18:12:58.891229Z",
     "start_time": "2023-04-28T18:12:58.888050Z"
    }
   },
   "outputs": [
    {
     "data": {
      "text/plain": [
       "['training_data.csv',\n",
       " 'made_the_cut.sav',\n",
       " 'win_with_other_info.ipynb',\n",
       " 'training_data.pkl',\n",
       " 'make_the_cut.ipynb',\n",
       " 'winners_model.sav',\n",
       " 'win.ipynb',\n",
       " '.ipynb_checkpoints']"
      ]
     },
     "execution_count": 8,
     "metadata": {},
     "output_type": "execute_result"
    }
   ],
   "source": [
    "import pandas as pd\n",
    "import os\n",
    "\n",
    "# check directories\n",
    "os.listdir('../ml')"
   ]
  },
  {
   "cell_type": "code",
   "execution_count": 9,
   "metadata": {
    "ExecuteTime": {
     "end_time": "2023-04-28T18:12:58.905308Z",
     "start_time": "2023-04-28T18:12:58.892016Z"
    }
   },
   "outputs": [
    {
     "data": {
      "text/html": [
       "<div>\n",
       "<style scoped>\n",
       "    .dataframe tbody tr th:only-of-type {\n",
       "        vertical-align: middle;\n",
       "    }\n",
       "\n",
       "    .dataframe tbody tr th {\n",
       "        vertical-align: top;\n",
       "    }\n",
       "\n",
       "    .dataframe thead th {\n",
       "        text-align: right;\n",
       "    }\n",
       "</style>\n",
       "<table border=\"1\" class=\"dataframe\">\n",
       "  <thead>\n",
       "    <tr style=\"text-align: right;\">\n",
       "      <th></th>\n",
       "      <th>tournament_id</th>\n",
       "      <th>player_name</th>\n",
       "      <th>score</th>\n",
       "      <th>Alabama</th>\n",
       "      <th>Arizona</th>\n",
       "      <th>California</th>\n",
       "      <th>Canada</th>\n",
       "      <th>Connecticut</th>\n",
       "      <th>Delaware</th>\n",
       "      <th>Florida</th>\n",
       "      <th>...</th>\n",
       "      <th>app</th>\n",
       "      <th>ott</th>\n",
       "      <th>t2g</th>\n",
       "      <th>result</th>\n",
       "      <th>tournament_putt</th>\n",
       "      <th>tournament_arg</th>\n",
       "      <th>tournament_app</th>\n",
       "      <th>tournament_ott</th>\n",
       "      <th>tournament_t2g</th>\n",
       "      <th>tournament_cluster</th>\n",
       "    </tr>\n",
       "  </thead>\n",
       "  <tbody>\n",
       "    <tr>\n",
       "      <th>0</th>\n",
       "      <td>147</td>\n",
       "      <td>Grayson Murray</td>\n",
       "      <td>-21</td>\n",
       "      <td>1</td>\n",
       "      <td>0</td>\n",
       "      <td>0</td>\n",
       "      <td>0</td>\n",
       "      <td>0</td>\n",
       "      <td>0</td>\n",
       "      <td>0</td>\n",
       "      <td>...</td>\n",
       "      <td>1</td>\n",
       "      <td>3</td>\n",
       "      <td>3</td>\n",
       "      <td>1</td>\n",
       "      <td>-0.125295</td>\n",
       "      <td>-0.053159</td>\n",
       "      <td>-0.217258</td>\n",
       "      <td>-0.091008</td>\n",
       "      <td>-0.361742</td>\n",
       "      <td>3</td>\n",
       "    </tr>\n",
       "    <tr>\n",
       "      <th>1</th>\n",
       "      <td>147</td>\n",
       "      <td>Chad Collins</td>\n",
       "      <td>-20</td>\n",
       "      <td>1</td>\n",
       "      <td>0</td>\n",
       "      <td>0</td>\n",
       "      <td>0</td>\n",
       "      <td>0</td>\n",
       "      <td>0</td>\n",
       "      <td>0</td>\n",
       "      <td>...</td>\n",
       "      <td>1</td>\n",
       "      <td>3</td>\n",
       "      <td>3</td>\n",
       "      <td>1</td>\n",
       "      <td>-0.125295</td>\n",
       "      <td>-0.053159</td>\n",
       "      <td>-0.217258</td>\n",
       "      <td>-0.091008</td>\n",
       "      <td>-0.361742</td>\n",
       "      <td>3</td>\n",
       "    </tr>\n",
       "    <tr>\n",
       "      <th>2</th>\n",
       "      <td>147</td>\n",
       "      <td>Brian Gay</td>\n",
       "      <td>-19</td>\n",
       "      <td>1</td>\n",
       "      <td>0</td>\n",
       "      <td>0</td>\n",
       "      <td>0</td>\n",
       "      <td>0</td>\n",
       "      <td>0</td>\n",
       "      <td>0</td>\n",
       "      <td>...</td>\n",
       "      <td>0</td>\n",
       "      <td>0</td>\n",
       "      <td>2</td>\n",
       "      <td>1</td>\n",
       "      <td>-0.125295</td>\n",
       "      <td>-0.053159</td>\n",
       "      <td>-0.217258</td>\n",
       "      <td>-0.091008</td>\n",
       "      <td>-0.361742</td>\n",
       "      <td>3</td>\n",
       "    </tr>\n",
       "    <tr>\n",
       "      <th>3</th>\n",
       "      <td>147</td>\n",
       "      <td>Scott Stallings</td>\n",
       "      <td>-19</td>\n",
       "      <td>1</td>\n",
       "      <td>0</td>\n",
       "      <td>0</td>\n",
       "      <td>0</td>\n",
       "      <td>0</td>\n",
       "      <td>0</td>\n",
       "      <td>0</td>\n",
       "      <td>...</td>\n",
       "      <td>1</td>\n",
       "      <td>0</td>\n",
       "      <td>3</td>\n",
       "      <td>1</td>\n",
       "      <td>-0.125295</td>\n",
       "      <td>-0.053159</td>\n",
       "      <td>-0.217258</td>\n",
       "      <td>-0.091008</td>\n",
       "      <td>-0.361742</td>\n",
       "      <td>3</td>\n",
       "    </tr>\n",
       "    <tr>\n",
       "      <th>4</th>\n",
       "      <td>147</td>\n",
       "      <td>Tag Ridings</td>\n",
       "      <td>-19</td>\n",
       "      <td>1</td>\n",
       "      <td>0</td>\n",
       "      <td>0</td>\n",
       "      <td>0</td>\n",
       "      <td>0</td>\n",
       "      <td>0</td>\n",
       "      <td>0</td>\n",
       "      <td>...</td>\n",
       "      <td>1</td>\n",
       "      <td>3</td>\n",
       "      <td>3</td>\n",
       "      <td>1</td>\n",
       "      <td>-0.125295</td>\n",
       "      <td>-0.053159</td>\n",
       "      <td>-0.217258</td>\n",
       "      <td>-0.091008</td>\n",
       "      <td>-0.361742</td>\n",
       "      <td>3</td>\n",
       "    </tr>\n",
       "  </tbody>\n",
       "</table>\n",
       "<p>5 rows × 49 columns</p>\n",
       "</div>"
      ],
      "text/plain": [
       "   tournament_id      player_name  score  Alabama  Arizona  California  \\\n",
       "0            147   Grayson Murray    -21        1        0           0   \n",
       "1            147     Chad Collins    -20        1        0           0   \n",
       "2            147        Brian Gay    -19        1        0           0   \n",
       "3            147  Scott Stallings    -19        1        0           0   \n",
       "4            147      Tag Ridings    -19        1        0           0   \n",
       "\n",
       "   Canada  Connecticut  Delaware  Florida  ...  app  ott  t2g  result  \\\n",
       "0       0            0         0        0  ...    1    3    3       1   \n",
       "1       0            0         0        0  ...    1    3    3       1   \n",
       "2       0            0         0        0  ...    0    0    2       1   \n",
       "3       0            0         0        0  ...    1    0    3       1   \n",
       "4       0            0         0        0  ...    1    3    3       1   \n",
       "\n",
       "   tournament_putt  tournament_arg  tournament_app  tournament_ott  \\\n",
       "0        -0.125295       -0.053159       -0.217258       -0.091008   \n",
       "1        -0.125295       -0.053159       -0.217258       -0.091008   \n",
       "2        -0.125295       -0.053159       -0.217258       -0.091008   \n",
       "3        -0.125295       -0.053159       -0.217258       -0.091008   \n",
       "4        -0.125295       -0.053159       -0.217258       -0.091008   \n",
       "\n",
       "   tournament_t2g  tournament_cluster  \n",
       "0       -0.361742                   3  \n",
       "1       -0.361742                   3  \n",
       "2       -0.361742                   3  \n",
       "3       -0.361742                   3  \n",
       "4       -0.361742                   3  \n",
       "\n",
       "[5 rows x 49 columns]"
      ]
     },
     "execution_count": 9,
     "metadata": {},
     "output_type": "execute_result"
    }
   ],
   "source": [
    "# import data\n",
    "path = '../ml/training_data.pkl'\n",
    "data: pd.DataFrame = pd.read_pickle(path)\n",
    "data.head()"
   ]
  },
  {
   "cell_type": "code",
   "execution_count": 10,
   "metadata": {
    "ExecuteTime": {
     "end_time": "2023-04-28T18:12:58.908220Z",
     "start_time": "2023-04-28T18:12:58.906734Z"
    }
   },
   "outputs": [
    {
     "name": "stdout",
     "output_type": "stream",
     "text": [
      "Index(['tournament_id', 'player_name', 'score', 'Alabama', 'Arizona',\n",
      "       'California', 'Canada', 'Connecticut', 'Delaware', 'Florida', 'Georgia',\n",
      "       'Hawaii', 'Illinois', 'Kentucky', 'Maryland', 'Massachusetts', 'Mexico',\n",
      "       'Michigan', 'Minnesota', 'Missouri', 'New Jersey', 'New York',\n",
      "       'North Carolina', 'Ohio', 'Oklahoma', 'Pennsylvania', 'Scotland',\n",
      "       'South Carolina', 'Tennessee', 'Texas', 'sg_putt', 'sg_arg', 'sg_app',\n",
      "       'sg_ott', 'sg_t2g', 'sg_total', 'pos', 'putting', 'arg', 'app', 'ott',\n",
      "       't2g', 'result', 'tournament_putt', 'tournament_arg', 'tournament_app',\n",
      "       'tournament_ott', 'tournament_t2g', 'tournament_cluster'],\n",
      "      dtype='object')\n"
     ]
    }
   ],
   "source": [
    "# data columns\n",
    "print(data.columns)"
   ]
  },
  {
   "cell_type": "code",
   "execution_count": 11,
   "metadata": {
    "ExecuteTime": {
     "end_time": "2023-04-28T18:12:58.927537Z",
     "start_time": "2023-04-28T18:12:58.909683Z"
    }
   },
   "outputs": [
    {
     "data": {
      "text/plain": [
       "sg_putt    -0.149599\n",
       "sg_arg     -0.066407\n",
       "sg_app     -0.157595\n",
       "sg_ott     -0.077082\n",
       "sg_t2g     -0.301058\n",
       "sg_total   -0.422657\n",
       "dtype: float64"
      ]
     },
     "execution_count": 11,
     "metadata": {},
     "output_type": "execute_result"
    }
   ],
   "source": [
    "# extracting just numeric data\n",
    "numeric_cols = ['sg_putt', 'sg_arg', 'sg_app', 'sg_ott', 'sg_t2g', 'sg_total', 'pos']\n",
    "num_df: pd.DataFrame = data[numeric_cols].dropna()\n",
    "num_df.mean(numeric_only=True)"
   ]
  },
  {
   "cell_type": "code",
   "execution_count": 12,
   "metadata": {
    "ExecuteTime": {
     "end_time": "2023-04-28T18:12:58.950691Z",
     "start_time": "2023-04-28T18:12:58.916993Z"
    }
   },
   "outputs": [
    {
     "data": {
      "text/plain": [
       "sg_putt     1.264197\n",
       "sg_arg      0.438145\n",
       "sg_app      1.331370\n",
       "sg_ott      0.669659\n",
       "sg_t2g      2.439595\n",
       "sg_total    3.717081\n",
       "dtype: float64"
      ]
     },
     "execution_count": 12,
     "metadata": {},
     "output_type": "execute_result"
    }
   ],
   "source": [
    "# average strokes gained by the winner\n",
    "num_df.query('pos == \"1\"').mean(numeric_only=True)"
   ]
  },
  {
   "attachments": {},
   "cell_type": "markdown",
   "metadata": {},
   "source": [
    "### Driver vs Putter Debate"
   ]
  },
  {
   "cell_type": "code",
   "execution_count": 13,
   "metadata": {
    "ExecuteTime": {
     "end_time": "2023-04-28T18:12:58.950893Z",
     "start_time": "2023-04-28T18:12:58.923214Z"
    }
   },
   "outputs": [
    {
     "data": {
      "text/plain": [
       "Ttest_indResult(statistic=-7.885895183600832, pvalue=1.5946451749026323e-15)"
      ]
     },
     "execution_count": 13,
     "metadata": {},
     "output_type": "execute_result"
    }
   ],
   "source": [
    "from scipy.stats import ttest_ind\n",
    "import numpy as np\n",
    "\n",
    "# test to see if putting and approach are statistic significantly different\n",
    "putt: np.array = num_df.sg_putt.values\n",
    "drive: np.array = num_df.sg_ott.values\n",
    "\n",
    "# test\n",
    "ttest_ind(putt, drive, alternative=\"less\")"
   ]
  },
  {
   "attachments": {},
   "cell_type": "markdown",
   "metadata": {},
   "source": [
    "Fail to reject null stating that putting has a larger impact on scoring than driving, so Driving may be more improtant than the old saying says"
   ]
  },
  {
   "attachments": {},
   "cell_type": "markdown",
   "metadata": {},
   "source": [
    "### Do Winners Putt Better?"
   ]
  },
  {
   "cell_type": "code",
   "execution_count": 14,
   "metadata": {
    "ExecuteTime": {
     "end_time": "2023-04-28T18:12:58.954111Z",
     "start_time": "2023-04-28T18:12:58.927742Z"
    }
   },
   "outputs": [
    {
     "data": {
      "text/plain": [
       "Ttest_indResult(statistic=16.369259579106767, pvalue=3.3819991028603986e-60)"
      ]
     },
     "execution_count": 14,
     "metadata": {},
     "output_type": "execute_result"
    }
   ],
   "source": [
    "# test to see if winners putt better\n",
    "winners_putting: np.array = num_df.query('pos == \"1\"').sg_putt.values\n",
    "others_putting: np.array = num_df.query('pos != \"1\"').sg_putt.values\n",
    "\n",
    "# run test\n",
    "ttest_ind(winners_putting, others_putting, alternative=\"greater\")"
   ]
  },
  {
   "attachments": {},
   "cell_type": "markdown",
   "metadata": {},
   "source": [
    "These results allow us to reject null that winners putt worse than those who do not win so we can state that putting does have an impact on winning a golf tournament\n",
    "<br>\n",
    "<br>\n",
    "To see some more interesting results lets see if a winner can differentiated between some one in the top 5 just by putting"
   ]
  },
  {
   "cell_type": "code",
   "execution_count": 15,
   "metadata": {
    "ExecuteTime": {
     "end_time": "2023-04-28T18:12:58.962484Z",
     "start_time": "2023-04-28T18:12:58.933750Z"
    }
   },
   "outputs": [
    {
     "data": {
      "text/plain": [
       "Ttest_indResult(statistic=5.0775060206955684, pvalue=2.265078298359371e-07)"
      ]
     },
     "execution_count": 15,
     "metadata": {},
     "output_type": "execute_result"
    }
   ],
   "source": [
    "# test to see if those who barely lose have worse putting than those who win\n",
    "top5_putting: np.array = num_df.query('pos in [\"2\", \"3\", \"4\", \"5\", \"T2\", \"T3\", \"T4\", \"T5\"]').sg_putt.values\n",
    "\n",
    "# run test\n",
    "ttest_ind(winners_putting, top5_putting, alternative=\"greater\")"
   ]
  },
  {
   "attachments": {},
   "cell_type": "markdown",
   "metadata": {},
   "source": [
    "This test shows that putting can differentiate with statistical signifigance, even the difference between a win and a top 5"
   ]
  },
  {
   "attachments": {},
   "cell_type": "markdown",
   "metadata": {},
   "source": [
    "### Do Winners Rely more on Putting or Ball Strinking?"
   ]
  },
  {
   "cell_type": "code",
   "execution_count": 16,
   "metadata": {
    "ExecuteTime": {
     "end_time": "2023-04-28T18:12:58.962581Z",
     "start_time": "2023-04-28T18:12:58.939572Z"
    }
   },
   "outputs": [
    {
     "data": {
      "text/plain": [
       "Ttest_indResult(statistic=-0.8359178209234898, pvalue=0.7981093118397729)"
      ]
     },
     "execution_count": 16,
     "metadata": {},
     "output_type": "execute_result"
    }
   ],
   "source": [
    "# test winners sg_putt > sg_app\n",
    "winners: pd.DataFrame = num_df.query('pos == \"1\"')\n",
    "putts: np.array = winners.sg_putt.values\n",
    "approach: np.array = winners.sg_app.values\n",
    "\n",
    "# test\n",
    "ttest_ind(putts, approach, alternative=\"greater\")"
   ]
  },
  {
   "cell_type": "code",
   "execution_count": 17,
   "metadata": {
    "ExecuteTime": {
     "end_time": "2023-04-28T18:12:58.962638Z",
     "start_time": "2023-04-28T18:12:58.942975Z"
    }
   },
   "outputs": [
    {
     "data": {
      "text/plain": [
       "Ttest_indResult(statistic=-0.8359178209234898, pvalue=0.20189068816022715)"
      ]
     },
     "execution_count": 17,
     "metadata": {},
     "output_type": "execute_result"
    }
   ],
   "source": [
    "# test sg_putt < sg_app\n",
    "# test\n",
    "ttest_ind(putts, approach, alternative=\"less\")"
   ]
  },
  {
   "cell_type": "code",
   "execution_count": 18,
   "metadata": {
    "ExecuteTime": {
     "end_time": "2023-04-28T18:12:58.962690Z",
     "start_time": "2023-04-28T18:12:58.946025Z"
    }
   },
   "outputs": [
    {
     "data": {
      "text/plain": [
       "Ttest_indResult(statistic=-0.8359178209234898, pvalue=0.4037813763204543)"
      ]
     },
     "execution_count": 18,
     "metadata": {},
     "output_type": "execute_result"
    }
   ],
   "source": [
    "# test sg_putt == sg_app\n",
    "# test\n",
    "ttest_ind(putts, approach, alternative=\"two-sided\")"
   ]
  },
  {
   "attachments": {},
   "cell_type": "markdown",
   "metadata": {},
   "source": [
    "Winners do not rely on sg_putting and sg_approach in different ways. The test show that there is not statistical evidence to show that either stat has a larger impact on player performance."
   ]
  },
  {
   "attachments": {},
   "cell_type": "markdown",
   "metadata": {},
   "source": [
    "### Lets combine all strokes gained stats to find differences in winners and those in top 5"
   ]
  },
  {
   "cell_type": "code",
   "execution_count": 21,
   "metadata": {},
   "outputs": [
    {
     "data": {
      "text/html": [
       "<div>\n",
       "<style scoped>\n",
       "    .dataframe tbody tr th:only-of-type {\n",
       "        vertical-align: middle;\n",
       "    }\n",
       "\n",
       "    .dataframe tbody tr th {\n",
       "        vertical-align: top;\n",
       "    }\n",
       "\n",
       "    .dataframe thead th {\n",
       "        text-align: right;\n",
       "    }\n",
       "</style>\n",
       "<table border=\"1\" class=\"dataframe\">\n",
       "  <thead>\n",
       "    <tr style=\"text-align: right;\">\n",
       "      <th></th>\n",
       "      <th>sg_putt</th>\n",
       "      <th>sg_arg</th>\n",
       "      <th>sg_app</th>\n",
       "      <th>sg_ott</th>\n",
       "      <th>sg_t2g</th>\n",
       "      <th>sg_total</th>\n",
       "      <th>pos</th>\n",
       "    </tr>\n",
       "  </thead>\n",
       "  <tbody>\n",
       "    <tr>\n",
       "      <th>0</th>\n",
       "      <td>0.387</td>\n",
       "      <td>0.064</td>\n",
       "      <td>1.417</td>\n",
       "      <td>1.518</td>\n",
       "      <td>3.000</td>\n",
       "      <td>3.387</td>\n",
       "      <td>1</td>\n",
       "    </tr>\n",
       "    <tr>\n",
       "      <th>1</th>\n",
       "      <td>1.429</td>\n",
       "      <td>0.107</td>\n",
       "      <td>1.668</td>\n",
       "      <td>-0.067</td>\n",
       "      <td>1.707</td>\n",
       "      <td>3.137</td>\n",
       "      <td>2</td>\n",
       "    </tr>\n",
       "    <tr>\n",
       "      <th>2</th>\n",
       "      <td>1.017</td>\n",
       "      <td>0.944</td>\n",
       "      <td>1.093</td>\n",
       "      <td>-0.167</td>\n",
       "      <td>1.870</td>\n",
       "      <td>2.887</td>\n",
       "      <td>T3</td>\n",
       "    </tr>\n",
       "    <tr>\n",
       "      <th>3</th>\n",
       "      <td>-0.187</td>\n",
       "      <td>0.165</td>\n",
       "      <td>1.887</td>\n",
       "      <td>1.022</td>\n",
       "      <td>3.074</td>\n",
       "      <td>2.887</td>\n",
       "      <td>T3</td>\n",
       "    </tr>\n",
       "    <tr>\n",
       "      <th>4</th>\n",
       "      <td>2.118</td>\n",
       "      <td>0.414</td>\n",
       "      <td>-0.212</td>\n",
       "      <td>0.566</td>\n",
       "      <td>0.768</td>\n",
       "      <td>2.886</td>\n",
       "      <td>T3</td>\n",
       "    </tr>\n",
       "  </tbody>\n",
       "</table>\n",
       "</div>"
      ],
      "text/plain": [
       "   sg_putt  sg_arg  sg_app  sg_ott  sg_t2g  sg_total pos\n",
       "0    0.387   0.064   1.417   1.518   3.000     3.387   1\n",
       "1    1.429   0.107   1.668  -0.067   1.707     3.137   2\n",
       "2    1.017   0.944   1.093  -0.167   1.870     2.887  T3\n",
       "3   -0.187   0.165   1.887   1.022   3.074     2.887  T3\n",
       "4    2.118   0.414  -0.212   0.566   0.768     2.886  T3"
      ]
     },
     "execution_count": 21,
     "metadata": {},
     "output_type": "execute_result"
    }
   ],
   "source": [
    "num_df.head()"
   ]
  },
  {
   "cell_type": "code",
   "execution_count": 19,
   "metadata": {
    "ExecuteTime": {
     "end_time": "2023-04-28T18:12:58.993565Z",
     "start_time": "2023-04-28T18:12:58.950556Z"
    }
   },
   "outputs": [
    {
     "data": {
      "text/plain": [
       "array([4.53015660e-07, 1.69006938e-01, 3.05133542e-08, 8.84656344e-04])"
      ]
     },
     "execution_count": 19,
     "metadata": {},
     "output_type": "execute_result"
    }
   ],
   "source": [
    "from scipy.stats import f_oneway\n",
    "\n",
    "# create winners and top5 matrices\n",
    "winners: np.array = num_df.query('pos == \"1\"').iloc[:, :-3].values\n",
    "top5: np.array = num_df.query('pos in [\"2\", \"3\", \"4\", \"5\", \"T2\", \"T3\", \"T4\", \"T5\"]').iloc[:, :-3].values\n",
    "\n",
    "# run one-way ANOVA\n",
    "f_stat, p_value = f_oneway(winners, top5)\n",
    "p_value"
   ]
  },
  {
   "attachments": {},
   "cell_type": "markdown",
   "metadata": {},
   "source": [
    "These results show that there is a statistically significant difference between all strokes gained categories, between winners and those in the top 5"
   ]
  },
  {
   "attachments": {},
   "cell_type": "markdown",
   "metadata": {},
   "source": [
    "### Lets See if Winners and Runner Ups are Unique"
   ]
  },
  {
   "cell_type": "code",
   "execution_count": 20,
   "metadata": {
    "ExecuteTime": {
     "end_time": "2023-04-28T18:12:58.993684Z",
     "start_time": "2023-04-28T18:12:58.957284Z"
    }
   },
   "outputs": [
    {
     "data": {
      "text/plain": [
       "array([0.01148892, 0.81770125, 0.00089102, 0.10420376])"
      ]
     },
     "execution_count": 20,
     "metadata": {},
     "output_type": "execute_result"
    }
   ],
   "source": [
    "# create winners and top5 matrices\n",
    "winners: np.array = num_df.query('pos == \"1\"').iloc[:, :-3].values\n",
    "runner_up: np.array = num_df.query('pos in [\"2\", \"T2\"]').iloc[:, :-3].values\n",
    "\n",
    "# run one-way ANOVA\n",
    "f_stat, p_value = f_oneway(winners, runner_up)\n",
    "p_value"
   ]
  },
  {
   "attachments": {},
   "cell_type": "markdown",
   "metadata": {},
   "source": [
    "These results show that sg_putting and sg_app are the two stats we can use to differentiate between winners and runner ups. This aligns a lot with Mark Broadie's claims and show that approach shots are a very important indicator on success."
   ]
  },
  {
   "cell_type": "code",
   "execution_count": null,
   "metadata": {
    "ExecuteTime": {
     "end_time": "2023-04-28T18:12:58.993913Z",
     "start_time": "2023-04-28T18:12:58.963082Z"
    }
   },
   "outputs": [],
   "source": []
  }
 ],
 "metadata": {
  "kernelspec": {
   "display_name": "ds",
   "language": "python",
   "name": "python3"
  },
  "language_info": {
   "codemirror_mode": {
    "name": "ipython",
    "version": 3
   },
   "file_extension": ".py",
   "mimetype": "text/x-python",
   "name": "python",
   "nbconvert_exporter": "python",
   "pygments_lexer": "ipython3",
   "version": "3.11.3"
  },
  "orig_nbformat": 4,
  "vscode": {
   "interpreter": {
    "hash": "0bed53bd8db8f6e1a1b9e112c135bc8111e6b581ca2aa80741f476355aa707b9"
   }
  }
 },
 "nbformat": 4,
 "nbformat_minor": 2
}
